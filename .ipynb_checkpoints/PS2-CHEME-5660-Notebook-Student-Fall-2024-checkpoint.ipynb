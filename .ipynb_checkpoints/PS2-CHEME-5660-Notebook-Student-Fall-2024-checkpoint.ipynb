{
 "cells": [
  {
   "cell_type": "markdown",
   "id": "2612ebc5-0ad0-4600-9ea0-0800929b02e2",
   "metadata": {},
   "source": [
    "# PS2: Future Share Price Prediction using a Trinomial Lattice Model\n",
    "__Congratulations!__ You have been awarded a contract to develop a trinomial lattice model to simulate future equity share prices. In this model, at each step, the future share price can transition to an `up`-state, a `down`-state, or stay the same in the `unch`-state. The model will use a real-world probability measure to estimate the probability of moving to each future state and the magnitude of that move.\n",
    "\n",
    "Some starter code has been provided in the `src` folder of this project, but you'll need to implement a few methods in the [src/Student.jl file](src/Student.jl). If you get stuck, the teaching team has provided a reference for the implementation of your methods in the [soln/Student.jl file](soln/Student.jl)"
   ]
  },
  {
   "cell_type": "markdown",
   "id": "08756963-d464-4a32-8ce8-a4db7cce42bf",
   "metadata": {},
   "source": [
    "## Setup\n",
    "Set up the computational environment using [the `Include.jl` file](Include.jl). The [`Include.jl` file](Include.jl) loads external packages, various functions we will use in the exercise, and custom types to model the components of our example problem.\n",
    "* For additional information on functions and types used in this material, see the [Julia programming language documentation](https://docs.julialang.org/en/v1/). This problem set __does not depend__ upon [the VLQuantitativeFinancePackage.jl package](https://github.com/varnerlab/VLQuantitativeFinancePackage.jl)."
   ]
  },
  {
   "cell_type": "code",
   "execution_count": 3,
   "id": "72821197-3a9b-4103-bbaa-cc92ceea1795",
   "metadata": {},
   "outputs": [],
   "source": [
    "include(\"Include.jl\");"
   ]
  },
  {
   "cell_type": "code",
   "execution_count": 4,
   "id": "24dba803-28b5-48cf-bceb-7e01a5ec0f01",
   "metadata": {},
   "outputs": [],
   "source": [
    "include(joinpath(_PATH_TO_SRC, \"Student.jl\"));"
   ]
  },
  {
   "cell_type": "markdown",
   "id": "9fe64e23-f36d-45cf-b0ee-e801a9f82536",
   "metadata": {},
   "source": [
    "## Prerequisites: Load and clean the historical dataset\n",
    "We gathered a daily open-high-low-close `dataset` for each firm in the [S&P500](https://en.wikipedia.org/wiki/S%26P_500) from `01-03-2018` until `12-29-2023`, along with data for a few exchange-traded funds and volatility products during that time. We load the `orignal_training_dataset` by calling [the `MyTrainingMarketPriceDataSet()` function](src/Files.jl):"
   ]
  },
  {
   "cell_type": "code",
   "execution_count": 6,
   "id": "a59546e7-4866-4a52-a459-72b4c7da15cf",
   "metadata": {},
   "outputs": [],
   "source": [
    "original_training_dataset = MyTrainingMarketPriceDataSet() |> x-> x[\"dataset\"];"
   ]
  },
  {
   "cell_type": "markdown",
   "id": "a41e47d6-cf04-4f7e-9e87-4c1bfa59c464",
   "metadata": {},
   "source": [
    "### Clean the data\n",
    "Not all tickers in our dataset have the maximum number of trading days for various reasons, e.g., acquisition or de-listing events. Let's collect only those tickers with the maximum number of trading days.\n",
    "\n",
    "* First, let's compute the number of records for a company that we know has a maximum value, e.g., `AAPL`, and save that value in the `maximum_number_trading_days` variable:"
   ]
  },
  {
   "cell_type": "code",
   "execution_count": 8,
   "id": "e8edc6e5-9d5a-4ac4-84a1-d2e5b58dacfa",
   "metadata": {},
   "outputs": [],
   "source": [
    "maximum_number_trading_days = original_training_dataset[\"AAPL\"] |> nrow;"
   ]
  },
  {
   "cell_type": "markdown",
   "id": "1ab0c99f-3470-492c-b9c9-c1cf761ff79b",
   "metadata": {},
   "source": [
    "Now, let's iterate through our data and collect only tickers with `maximum_number_trading_days` records. Save that data in the `training)dataset::Dict{String,DataFrame}` variable:"
   ]
  },
  {
   "cell_type": "code",
   "execution_count": 10,
   "id": "c83192b0-4247-4192-9124-7c1470680cc7",
   "metadata": {},
   "outputs": [
    {
     "data": {
      "text/plain": [
       "Dict{String, DataFrame} with 460 entries:\n",
       "  \"NI\"   => \u001b[1m1508×8 DataFrame\u001b[0m\u001b[0m…\n",
       "  \"EMR\"  => \u001b[1m1508×8 DataFrame\u001b[0m\u001b[0m…\n",
       "  \"CTAS\" => \u001b[1m1508×8 DataFrame\u001b[0m\u001b[0m…\n",
       "  \"HSIC\" => \u001b[1m1508×8 DataFrame\u001b[0m\u001b[0m…\n",
       "  \"KIM\"  => \u001b[1m1508×8 DataFrame\u001b[0m\u001b[0m…\n",
       "  \"PLD\"  => \u001b[1m1508×8 DataFrame\u001b[0m\u001b[0m…\n",
       "  \"IEX\"  => \u001b[1m1508×8 DataFrame\u001b[0m\u001b[0m…\n",
       "  \"BAC\"  => \u001b[1m1508×8 DataFrame\u001b[0m\u001b[0m…\n",
       "  \"CBOE\" => \u001b[1m1508×8 DataFrame\u001b[0m\u001b[0m…\n",
       "  \"EXR\"  => \u001b[1m1508×8 DataFrame\u001b[0m\u001b[0m…\n",
       "  \"NCLH\" => \u001b[1m1508×8 DataFrame\u001b[0m\u001b[0m…\n",
       "  \"CVS\"  => \u001b[1m1508×8 DataFrame\u001b[0m\u001b[0m…\n",
       "  \"DRI\"  => \u001b[1m1508×8 DataFrame\u001b[0m\u001b[0m…\n",
       "  \"DTE\"  => \u001b[1m1508×8 DataFrame\u001b[0m\u001b[0m…\n",
       "  \"ZION\" => \u001b[1m1508×8 DataFrame\u001b[0m\u001b[0m…\n",
       "  \"AVY\"  => \u001b[1m1508×8 DataFrame\u001b[0m\u001b[0m…\n",
       "  \"EW\"   => \u001b[1m1508×8 DataFrame\u001b[0m\u001b[0m…\n",
       "  \"EA\"   => \u001b[1m1508×8 DataFrame\u001b[0m\u001b[0m…\n",
       "  \"NWSA\" => \u001b[1m1508×8 DataFrame\u001b[0m\u001b[0m…\n",
       "  \"CAG\"  => \u001b[1m1508×8 DataFrame\u001b[0m\u001b[0m…\n",
       "  \"GPC\"  => \u001b[1m1508×8 DataFrame\u001b[0m\u001b[0m…\n",
       "  \"FCX\"  => \u001b[1m1508×8 DataFrame\u001b[0m\u001b[0m…\n",
       "  \"GILD\" => \u001b[1m1508×8 DataFrame\u001b[0m\u001b[0m…\n",
       "  \"UNP\"  => \u001b[1m1508×8 DataFrame\u001b[0m\u001b[0m…\n",
       "  \"CDW\"  => \u001b[1m1508×8 DataFrame\u001b[0m\u001b[0m…\n",
       "  ⋮      => ⋮"
      ]
     },
     "execution_count": 10,
     "metadata": {},
     "output_type": "execute_result"
    }
   ],
   "source": [
    "training_dataset = Dict{String,DataFrame}();\n",
    "for (ticker,data) ∈ original_training_dataset\n",
    "    if (nrow(data) == maximum_number_trading_days)\n",
    "        training_dataset[ticker] = data;\n",
    "    end\n",
    "end\n",
    "training_dataset"
   ]
  },
  {
   "cell_type": "markdown",
   "id": "243a97e7-d2b4-4b21-ad01-92959554b2a5",
   "metadata": {},
   "source": [
    "Next, get a list of ticker symbols for the firms in the cleaned-up `training_dataset` and save it in the `list_of_all_tickers::Array{String,1}` array. We sort the list of ticker symbols alphabetically using [the build-in Julia `sort(...)` function](https://docs.julialang.org/en/v1/base/sort/#Base.sort).\n",
    "* _What is the `|>`_? This is the [Julia pipe (function composition) operator](https://docs.julialang.org/en/v1/manual/functions/#Function-composition-and-piping). It takes the result of its left-hand operon and inserts it into its right-hand side operon. So the statement below is: we get [the keys of the dictionary](https://docs.julialang.org/en/v1/base/collections/#Base.keys), turn that into an array using [the collect method](https://docs.julialang.org/en/v1/base/collections/#Base.collect-Tuple{Type,%20Any}), and sort it [using the `sort(...)` method](https://docs.julialang.org/en/v1/base/sort/#Base.sort). We then save the result in the `list_of_all_tickers` variable."
   ]
  },
  {
   "cell_type": "code",
   "execution_count": 12,
   "id": "cc5f046a-235c-48f5-aee0-98485383f6ac",
   "metadata": {},
   "outputs": [],
   "source": [
    "list_of_all_tickers = keys(training_dataset) |> collect |> sort;"
   ]
  },
  {
   "cell_type": "markdown",
   "id": "4e2d0777-d7fc-4620-b614-8cfa37efd52e",
   "metadata": {},
   "source": [
    "#### Constants\n",
    "Finally, set some constants we'll use later in this notebook. The comments describe the constants, the units, permissible values, etc."
   ]
  },
  {
   "cell_type": "code",
   "execution_count": 14,
   "id": "e57397f9-2257-46e2-be3a-c818c08d898d",
   "metadata": {},
   "outputs": [],
   "source": [
    "Δt = (1/252); # 1-trading day in units of years\n",
    "ϵ = 0.05; # region around zero to classify as unch => 0 ± ϵ will be counted as unch"
   ]
  },
  {
   "cell_type": "markdown",
   "id": "caac3475-77eb-4f9f-a480-f1647c3e148c",
   "metadata": {},
   "source": [
    "## Task 1: Estimate the real-world lattice parameters from data\n",
    "In this task, we'll estimate the parameters of the trinomial lattice model using a real-world probability measure, i.e., from growth rate data. We'll start by explaining the parameters of a trinomial model; we'll then calculate the growth rate for a ticker of interest, in this case, `SPY,` and then we'll estimate the trinomial model parameters."
   ]
  },
  {
   "cell_type": "markdown",
   "id": "ec9e3bac-6595-4a22-8c20-b6c010f67e0b",
   "metadata": {},
   "source": [
    "### Parameters\n",
    "A trinomial model has five parameters to estimate $(p,\\bar{p},q,u,d)$, and a hyper-parameter $\\epsilon$ (the distance around that we define as an `unch` move) that we select.\n",
    "* The up factor $u$ and the down factor $d$ are the same as the binomial model. The up parameter $u$ is the amount the share increases over a period if we transition to the `up`-state. Likewise, the down factor $d$ is the amount the share price decreases if we transition to the `down`-state.\n",
    "* For a trinomial model, we have _three probability parameters_ $(p,\\bar{p},q)$ that we have to estimate. The parameter $p$ denotes the probability of a `up`-move, $\\bar{p}$ denotes the probability of a `down`-move, and $q$ denote the probability of an `unch` move. Because we have three outcomes: $q = 1 - p - \\bar{p}$.\n",
    "* _Aside_: To be technical, the $(p,\\bar{p},q)$ are the parameters of [a categorical distribution](https://en.wikipedia.org/wiki/Categorical_distribution), which we could theoretically sample at each node of the tree to determine the next state. A [categorical distribution](https://en.wikipedia.org/wiki/Categorical_distribution) is a generalization of [the Bernoulli distribution](https://en.wikipedia.org/wiki/Bernoulli_distribution), which we used in the binomial case.\n",
    "\n",
    "Given a value for $\\epsilon$, we can estimate values for $(p,\\bar{p},q,u,d)$ using logic similar to the binomial case, i.e., we count the number of up-days and divide by the total number of days to get $p$, etc.\n",
    "\n",
    "### Estimate the growth rate array\n",
    "Now that we have loaded the data, we can calculate the growth rate. We assume a share price model of the form:\n",
    "$$\n",
    "S_{j} = \\exp\\left(\\mu_{j,j-1}\\cdot\\Delta{t}\\right)\\cdot{S_{j-1}}\n",
    "$$\n",
    "where $\\mu_{j,j-1}$ denotes the _growth rate_ (units: 1/time) and $\\Delta{t}$ (units: time) denotes the time step during the period $(j-1)\\rightarrow{j}$. Solving for the growth parameter $\\mu_{j,j-1}$ gives the expression:\n",
    "$$\n",
    "\\mu_{j,j-1} = \\left(\\frac{1}{\\Delta{t}}\\right)\\cdot\\ln\\left(\\frac{S_{j}}{S_{j-1}}\\right)\n",
    "$$\n",
    "We use daily data; thus, the natural time frame between $S_{j-1}$ and $S_{j}$ is a single day. However, it will be easier to use an annualized value for the $\\mu$ parameter; thus, we let $\\Delta{t} = 1/252$, i.e., the fraction of a year that occurs in a single trading day.\n",
    "* The [`log_growth_matrix(...)` method](src/Student.jl) takes `dataset` $\\mathcal{D}$ and a list of firms $\\mathcal{L}$ and computes the growth rate values for each firm as a function of time. The data is returned as a $\\mathcal{D}_{i}\\times\\dim\\mathcal{L}$ array (time on the rows, firm $i$ on the columns). We store the data in the `log_growth_array::Array{Float64,1}` variable.\n",
    "* __TODO__: Finish the implementation of the [`log_growth_matrix(...)` method](src/Student.jl) in `src/Student.jl.` For clues, [check out the `VLQuantativeFinancePackage.jl` implementation of this method](https://github.com/varnerlab/VLQuantitativeFinancePackage.jl/blob/e9a3f416dac2722b7c13aaeff23637fc40bdd68a/src/Base.jl#L2-L28). Alternatively, we've provided an implementation in the `soln` directory if you get stuck."
   ]
  },
  {
   "cell_type": "code",
   "execution_count": 17,
   "id": "4c13ca0b-0228-4b5b-912b-7c75ec8b308e",
   "metadata": {},
   "outputs": [],
   "source": [
    "log_growth_array = nothing; # TODO: complete the impl of the log_growth_matrix method, and call it here"
   ]
  },
  {
   "cell_type": "markdown",
   "id": "61727cf6-8c21-4c16-b7e1-40b93ea5f271",
   "metadata": {},
   "source": [
    "* This study will focus on [the SP500 ETF `SPY`](https://finance.yahoo.com/quote/SPY/). Set the `ticker_to_analyze::String` variable to `SPY.` We'll then look up the location (index) of `SPY` in the `list_of_all_tickers` using [the `findfirst(...)` method](https://docs.julialang.org/en/v1/base/arrays/#Base.findfirst-Tuple{Function,%20Any}), and save it to the `i` variable."
   ]
  },
  {
   "cell_type": "code",
   "execution_count": 19,
   "id": "5e151d21-3d16-4cda-9f6d-5090890f061a",
   "metadata": {},
   "outputs": [],
   "source": [
    "ticker_to_analyze = nothing; # TODO: update the ticker we are going to model here\n",
    "i = findfirst(ticker -> ticker == ticker_to_analyze, list_of_all_tickers);"
   ]
  },
  {
   "cell_type": "markdown",
   "id": "19bfdcf0-846e-4dbc-89e2-5135f2581272",
   "metadata": {},
   "source": [
    "Using the `log_growth_array::Array{Float64,2},` estimate the $(p,\\bar{p},q,u,d)$ parameters assuming a real-world probability measure by passing the growth-rate data to [a `RealWorldTrinomialProbabilityMeasure` instance](src/Types.jl), which returns [a `MyRealWorldTrinomialSharePriceTreeParameters` instance](src/Types.jl) which holds the parameters.\n",
    "* __TODO__: behind the scenes, this call points to a private function that computes the $(p,\\bar{p},q,u,d)$ by analyzing the $\\mu$-time series data in the `log_growth_array::Array{Float64,1}` variable. You'll need to provide the implementation of that private method in the [`src/Student.jl` file](src/Student.jl). Look at the [bionomial implementation in the VLQuantativeFinancePackage.jl for clues](https://github.com/varnerlab/VLQuantitativeFinancePackage.jl/blob/e9a3f416dac2722b7c13aaeff23637fc40bdd68a/src/Compute.jl#L360). Alternatively, the answer is included in the `soln` directory (but that's not exciting!)"
   ]
  },
  {
   "cell_type": "code",
   "execution_count": 21,
   "id": "9fe70774-aa87-44e8-8de1-76ec926f8d24",
   "metadata": {},
   "outputs": [],
   "source": [
    "parameters = nothing; # TODO: implement the _analyze_real_world_ternary_single_asset function, and do syntax sugar trick here"
   ]
  },
  {
   "cell_type": "code",
   "execution_count": 22,
   "id": "fd9671ef-4cb0-4b8b-aa07-2280468baf2e",
   "metadata": {},
   "outputs": [
    {
     "data": {
      "text/plain": [
       "Nothing"
      ]
     },
     "execution_count": 22,
     "metadata": {},
     "output_type": "execute_result"
    }
   ],
   "source": [
    "typeof(parameters)"
   ]
  },
  {
   "cell_type": "markdown",
   "id": "adace206-0366-4094-b82d-212d3ed266ff",
   "metadata": {},
   "source": [
    "### Check: Do the estimated probabilities sum to `1`?\n",
    "The calculation of the $(p,\\bar{p},q,u,d)$ parameters does not use the $q = 1 - p - \\bar{p}$ expression, i.e., it estimates $p$, $\\bar{p}$ and $q$ independently. If your calculation is correct, then $p + \\bar{p} + q = 1$. \n",
    "* Write a check [using the @assert macro](https://docs.julialang.org/en/v1/base/base/#Base.@assert) to verify $p + \\bar{p} + q = 1$."
   ]
  },
  {
   "cell_type": "code",
   "execution_count": 87,
   "id": "ecc1fbec-aaa6-4d6a-acf5-9e1daf473cbe",
   "metadata": {},
   "outputs": [
    {
     "ename": "LoadError",
     "evalue": "AssertionError: 1 == 0",
     "output_type": "error",
     "traceback": [
      "AssertionError: 1 == 0",
      "",
      "Stacktrace:",
      " [1] top-level scope",
      "   @ In[87]:3"
     ]
    }
   ],
   "source": [
    "let \n",
    "    # impl the test here using @assert\n",
    "    @assert 1 == 0 # replace me with your logic\n",
    "end"
   ]
  },
  {
   "cell_type": "markdown",
   "id": "cb99ceee-e890-4eef-99c3-3668a84a92dd",
   "metadata": {},
   "source": [
    "## Task 2: Build a trinomial model and test in-sample performance\n",
    "In this task, we'll use the parameters from the previous task to construct [a `MyAdjacencyBasedTrinomialSharePriceTreeModel` instance](src/Types.jl) using [a custom `build(...)` method](src/Factory.jl) and then we'll simulate the future share price distribution for `SPY` by calling [the `populate(...)` method](src/Student.jl). This will compute the price and probability values for all the nodes in the tree for each level (time slice) of the tree.\n",
    "\n",
    "Let's begin by setting the number of levels (time slices) in the tree by specifying the `h::Int64` parameter. For this study, let `h = 13`."
   ]
  },
  {
   "cell_type": "code",
   "execution_count": 26,
   "id": "c2a3e2e0-8f5e-4d13-8279-173004ae583c",
   "metadata": {},
   "outputs": [],
   "source": [
    "h = nothing; # TODO: set h. this will give h + 1 levels with index {0,1,...,h-1} because zero-based"
   ]
  },
  {
   "cell_type": "markdown",
   "id": "7f293f28-0d4e-4733-8f45-f0a76449c61f",
   "metadata": {},
   "source": [
    "Select a (random) `h-day` period by setting the `random_start_index::Int64` variable. Here, we'll specify the start index (the trading day index from which we initialize the simulation) to `1321`."
   ]
  },
  {
   "cell_type": "code",
   "execution_count": 28,
   "id": "9c8ed1fe-d3e5-43ce-a957-56ec8cc21c86",
   "metadata": {},
   "outputs": [
    {
     "ename": "LoadError",
     "evalue": "MethodError: no method matching -(::Nothing, ::Int64)\n\n\u001b[0mClosest candidates are:\n\u001b[0m  -(\u001b[91m::BigInt\u001b[39m, ::Union{Int16, Int32, Int64, Int8})\n\u001b[0m\u001b[90m   @\u001b[39m \u001b[90mBase\u001b[39m \u001b[90m\u001b[4mgmp.jl:557\u001b[24m\u001b[39m\n\u001b[0m  -(\u001b[91m::ChainRulesCore.NotImplemented\u001b[39m, ::Any)\n\u001b[0m\u001b[90m   @\u001b[39m \u001b[35mChainRulesCore\u001b[39m \u001b[90m~/.julia/packages/ChainRulesCore/6Pucz/src/\u001b[39m\u001b[90m\u001b[4mtangent_arithmetic.jl:49\u001b[24m\u001b[39m\n\u001b[0m  -(::Any, \u001b[91m::ChainRulesCore.NotImplemented\u001b[39m)\n\u001b[0m\u001b[90m   @\u001b[39m \u001b[35mChainRulesCore\u001b[39m \u001b[90m~/.julia/packages/ChainRulesCore/6Pucz/src/\u001b[39m\u001b[90m\u001b[4mtangent_arithmetic.jl:50\u001b[24m\u001b[39m\n\u001b[0m  ...\n",
     "output_type": "error",
     "traceback": [
      "MethodError: no method matching -(::Nothing, ::Int64)\n\n\u001b[0mClosest candidates are:\n\u001b[0m  -(\u001b[91m::BigInt\u001b[39m, ::Union{Int16, Int32, Int64, Int8})\n\u001b[0m\u001b[90m   @\u001b[39m \u001b[90mBase\u001b[39m \u001b[90m\u001b[4mgmp.jl:557\u001b[24m\u001b[39m\n\u001b[0m  -(\u001b[91m::ChainRulesCore.NotImplemented\u001b[39m, ::Any)\n\u001b[0m\u001b[90m   @\u001b[39m \u001b[35mChainRulesCore\u001b[39m \u001b[90m~/.julia/packages/ChainRulesCore/6Pucz/src/\u001b[39m\u001b[90m\u001b[4mtangent_arithmetic.jl:49\u001b[24m\u001b[39m\n\u001b[0m  -(::Any, \u001b[91m::ChainRulesCore.NotImplemented\u001b[39m)\n\u001b[0m\u001b[90m   @\u001b[39m \u001b[35mChainRulesCore\u001b[39m \u001b[90m~/.julia/packages/ChainRulesCore/6Pucz/src/\u001b[39m\u001b[90m\u001b[4mtangent_arithmetic.jl:50\u001b[24m\u001b[39m\n\u001b[0m  ...\n",
      "",
      "Stacktrace:",
      " [1] top-level scope",
      "   @ In[28]:1"
     ]
    }
   ],
   "source": [
    "random_start_index = nothing; # TDOD: set a value for the random_start_index (where the simulation starts)\n",
    "random_stop_index = random_start_index + (h - 1);"
   ]
  },
  {
   "cell_type": "markdown",
   "id": "12d56ad8-6de6-4d04-8d33-efddfb563c2b",
   "metadata": {},
   "source": [
    "Now that we have the time range of the simulation, let's grab the initial share price for the simulation from the `original_training_dataset::DataFrame,` save this value to the `Sₒ::Float64` variable"
   ]
  },
  {
   "cell_type": "code",
   "execution_count": 30,
   "id": "da72247c-d8c9-42bf-b57c-af8b53ef4a93",
   "metadata": {},
   "outputs": [
    {
     "ename": "LoadError",
     "evalue": "KeyError: key nothing not found",
     "output_type": "error",
     "traceback": [
      "KeyError: key nothing not found",
      "",
      "Stacktrace:",
      " [1] getindex(h::Dict{String, DataFrame}, key::Nothing)",
      "   @ Base ./dict.jl:498",
      " [2] top-level scope",
      "   @ In[30]:1"
     ]
    }
   ],
   "source": [
    "Sₒ = original_training_dataset[ticker_to_analyze][random_start_index, :volume_weighted_average_price];"
   ]
  },
  {
   "cell_type": "markdown",
   "id": "dbb41954-af19-4b39-98c8-6fc6b366cc47",
   "metadata": {},
   "source": [
    "### Build the tree, simulate the future share prices\n",
    "Finally, let's build and save the tree model in the `latticemodel::MyAdjacencyBasedTrinomialSharePriceTreeModel` variable. This is a two-step process. \n",
    "* First, we make an empty tree using [the `build(...)` method for `MyAdjacencyBasedTrinomialSharePriceTreeModel`](src/Factory.jl), where we pass in the type of thing we want to build, i.e., a `MyAdjacencyBasedTrinomialSharePriceTreeModel` instance and the data needed to build it, i.e., the `parameters::MyRealWorldTrinomialSharePriceTreeParameters` we estimated above.\n",
    "* Second, we populate the tree [using the `populate(...)` method](src/Student.jl). This method computes the price and the probability of each node, [which is a multinomial distribution instead of a binomial distribution](https://en.wikipedia.org/wiki/Multinomial_distribution), as well as some other data such as the connectivity of the tree (how the nodes are connected). The [`populate(...)` method](src/Student.jl) takes the initial share price `Sₒ` and the height of the tree (zero-based) in the `h` argument.\n",
    "* __Challenge problem (optional)__: The current tree implementation in `src/Student.jl` is a full `3-tree`. However, we know this should be a recombining tree _not_ a full tree. The practical significance is that we are limited in the number of future days we can simulate because the number of tree nodes increases quickly. Develop a refactored [`populate(...)` method](src/Student.jl) that constructs a recombining tree instead of a full tree. The recombined tree should have the correct price, probability, connectivity, and levels data."
   ]
  },
  {
   "cell_type": "code",
   "execution_count": 32,
   "id": "0bfa1a75-fc8a-4096-a3d6-412f4b424068",
   "metadata": {},
   "outputs": [],
   "source": [
    "latticemodel = nothing; # TODO: call the build and populate methods here"
   ]
  },
  {
   "cell_type": "markdown",
   "id": "b538cb18-0477-4e1f-ad3c-58432444dd76",
   "metadata": {},
   "source": [
    "#### Visualize price distribution at tree level `h`\n",
    "Let's quickly check to ensure we are getting what we expect. For a full `k`-tree (where `k = 3` in this case), we expect there will be $k^{l}$ nodes in the tree at level `l.`  For example, at `l = 2`, we should see nine nodes with price, probability, and path (the path to get to that node from the root) data.\n",
    "* `Unhide` the code block below to see how we constructed a node table for `l = 2`.  From this table, we can see that our reference implementation of [the `populate(...)` method](src/Student.jl) produces a tree with duplicate nodes, i.e., `[a,b]` and `[b,a].`\n",
    "* For a more sophisticated implementation (the challenge problem above), we should eliminate these nodes and update the connectivity and levels dictionaries. However, the reference implementation will work for now. "
   ]
  },
  {
   "cell_type": "code",
   "execution_count": 34,
   "id": "b8453264-1c7d-46ac-b341-15569be7be9a",
   "metadata": {
    "jupyter": {
     "source_hidden": true
    }
   },
   "outputs": [
    {
     "ename": "LoadError",
     "evalue": "type Nothing has no field levels",
     "output_type": "error",
     "traceback": [
      "type Nothing has no field levels",
      "",
      "Stacktrace:",
      " [1] getproperty(x::Nothing, f::Symbol)",
      "   @ Base ./Base.jl:37",
      " [2] top-level scope",
      "   @ ./In[34]:3"
     ]
    }
   ],
   "source": [
    "let\n",
    "    l = 2; # test level of the tree\n",
    "    nodeid = latticemodel.levels[l]\n",
    "    df = DataFrame();\n",
    "    counter = 1;\n",
    "    for i ∈ nodeid\n",
    "        node = latticemodel.data[i];\n",
    "        \n",
    "        row_df = (\n",
    "            count = counter,\n",
    "            index = i,\n",
    "            probability = node.probability,\n",
    "            price = node.price,\n",
    "            path = node.path,\n",
    "        );\n",
    "        push!(df, row_df);\n",
    "        counter += 1\n",
    "    end\n",
    "    pretty_table(df, tf = tf_simple)\n",
    "end"
   ]
  },
  {
   "cell_type": "markdown",
   "id": "0bac70fb-6173-4fb1-9064-ba001bcd7a97",
   "metadata": {},
   "source": [
    "#### Check: verify the node price calculations\n",
    "The path data on each node allows us to reproduce the path through the tree to get a node. The `a` is an up move, `b` is an unch move, and `c` is a down move. Let's recompute the prices on a few nodes to ensure our calculations are correct. \n",
    "* Write a check which [uses the @assert macro](https://docs.julialang.org/en/v1/base/base/#Base.@assert) and [the `isapprox(...)` method](https://docs.julialang.org/en/v1/base/math/#Base.isapprox) to verify the tree calculations for all nodes at level `l=2.` If the prices are correct, we pass the test; otherwise, [an AssertionError](https://docs.julialang.org/en/v1/base/base/#Core.AssertionError) will be thrown."
   ]
  },
  {
   "cell_type": "code",
   "execution_count": 36,
   "id": "f6beed29-da80-4336-a07c-80964c6d030b",
   "metadata": {},
   "outputs": [
    {
     "ename": "LoadError",
     "evalue": "UndefVarError: `Sₒ` not defined",
     "output_type": "error",
     "traceback": [
      "UndefVarError: `Sₒ` not defined",
      "",
      "Stacktrace:",
      " [1] top-level scope",
      "   @ ./In[36]:3"
     ]
    }
   ],
   "source": [
    "let\n",
    "    nodes = [4,5,6,7,8,9,10,11,12]; # nodes that we want to test at l = 2\n",
    "    initialprice = Sₒ; # the initial share price at the root of the tree\n",
    "\n",
    "    computed_prices_tree = Array{Float64,1}(); # We'll put the prices computed in the tree here\n",
    "    my_computed_prices = Array{Float64,1}(); # We'll put our computed prices here\n",
    "    moves = Dict{Char,Float64}(); # this will hold the values for the moves\n",
    "\n",
    "    # populate the computed_prices_tree array -\n",
    "    for i ∈ nodes\n",
    "        push!(computed_prices_tree, latticemodel.data[i].price);\n",
    "    end\n",
    "\n",
    "    # TODO: Impl the check here ...\n",
    "    # ...\n",
    "    \n",
    "    @assert isapprox(computed_prices_tree, my_computed_prices) == true # check\n",
    "end"
   ]
  },
  {
   "cell_type": "markdown",
   "id": "f571323c-79bc-4025-9217-3d7ea9847377",
   "metadata": {},
   "source": [
    "#### Check: Is the children's numbering correct?\n",
    "We have connectivity information and data stored in the `latticemodel` instance, where the connectivity of the tree nodes is stored in the `connectivity::Dict{Int64, Array{Int64,1}}` field of the model. Let's compare this with the numbering we expect in the tree. For a full `k-tree` with `h`-levels, the indices of the children of node $i$, denoted by the set $\\mathcal{C}_{i}$, are given by:\n",
    "$$\n",
    "\\begin{equation}\n",
    "\\mathcal{C}_{i}=\\left\\{k\\cdot{i}+1,k\\cdot{i}+2,\\dots,k\\cdot{i}+k\\right\\}\n",
    "\\end{equation}\n",
    "$$\n",
    "`Unihde` the code block below to see how we checked the numbering of children nodes. Note: this check assumes a full `3`-tree. Thus, if you are brave and have refactored [the reference `populate(...)` method](src/Student.jl), you will need to update this test."
   ]
  },
  {
   "cell_type": "code",
   "execution_count": 38,
   "id": "c14ec331-4765-440e-8941-4776adcac89e",
   "metadata": {
    "jupyter": {
     "source_hidden": true
    }
   },
   "outputs": [
    {
     "ename": "LoadError",
     "evalue": "type Nothing has no field connectivity",
     "output_type": "error",
     "traceback": [
      "type Nothing has no field connectivity",
      "",
      "Stacktrace:",
      " [1] getproperty(x::Nothing, f::Symbol)",
      "   @ Base ./Base.jl:37",
      " [2] top-level scope",
      "   @ ./In[38]:11"
     ]
    }
   ],
   "source": [
    "let\n",
    "    k = 3; # branching factor\n",
    "    h = 13; # the height of the tree\n",
    "    i = 2; # parent node index\n",
    "\n",
    "    # generate expected index set -\n",
    "    expected_children = Array{Int64,1}(undef, 3);\n",
    "    for c ∈ 1:k\n",
    "        expected_children[c] = k*i + c\n",
    "    end\n",
    "    @assert latticemodel.connectivity[i] == expected_children; # if not the same - boom.\n",
    "end"
   ]
  },
  {
   "cell_type": "markdown",
   "id": "5074386d-a5f4-4bf5-bead-7b7f1c0b9159",
   "metadata": {},
   "source": [
    "#### Check: How many nodes do we have in the tree?\n",
    "If this is a full `k-tree` with `h`-levels, we expect the tree will have:\n",
    "$$\n",
    "\\begin{equation}\n",
    "N_{h} = \\sum_{j=0}^{h}k^j = \\frac{k^{h+1}-1}{k-1}\n",
    "\\end{equation}\n",
    "$$\n",
    "nodes where $N_{h}$ includes the final layer of leaves. Let's check this condition using the `latticemodel` we constructed. The data for the nodes is stored in the `data` field; this should have $N_{h}$ entries in this dictionary.\n",
    "* `Unhide` the code block below to see how we checked the number of nodes in the tree. Note: this check assumes a full `3`-tree. Thus, if you are brave and have refactored [the reference `populate(...)` method](src/Student.jl), you will need to update this test."
   ]
  },
  {
   "cell_type": "code",
   "execution_count": 40,
   "id": "0a754f79-d0ad-490c-a72f-2ec4c9bfe9ed",
   "metadata": {
    "jupyter": {
     "source_hidden": true
    }
   },
   "outputs": [
    {
     "ename": "LoadError",
     "evalue": "type Nothing has no field data",
     "output_type": "error",
     "traceback": [
      "type Nothing has no field data",
      "",
      "Stacktrace:",
      " [1] getproperty(x::Nothing, f::Symbol)",
      "   @ Base ./Base.jl:37",
      " [2] top-level scope",
      "   @ In[40]:5"
     ]
    }
   ],
   "source": [
    "let\n",
    "    k = 3; # branching factor\n",
    "    h = 13; # the height of the tree (specified above)\n",
    "    Nₕ = (k^(h+1) - 1)/(k - 1); # expected number of nodes\n",
    "    @assert Nₕ == length(latticemodel.data); # We have a data entry for each node. Thus, the length(data) should be Nₕ. Otherwise ... booom.\n",
    "end"
   ]
  },
  {
   "cell_type": "markdown",
   "id": "c116c027-6a48-47bb-b7db-6a4e0dad0ce8",
   "metadata": {},
   "source": [
    "#### Check: Does the probability of _unique nodes_ on a level sum to `1`?\n",
    "Finally, we've checked the prices, the size of the tree, and the children's labeling. The last thing we need to check is whether the probabilities at a given level `l` of the price tree sum to `1`.  The wrinkle, in this case, is that we have extra (duplicate) nodes produced by the reference implementation of [the `populate(...)` method](src/Student.jl). Thus, we need to do this probability check calculation using only _unique_ nodes.\n",
    "* `Unihide` the code block below to see how we implemented the probability summation check for only _unique_ nodes. If your calculations are correct, this test should pass; otherwise, [and AssertionError](https://docs.julialang.org/en/v1/base/base/#Core.AssertionError) will be thrown."
   ]
  },
  {
   "cell_type": "code",
   "execution_count": 42,
   "id": "8fb2dd92-7a6e-4c76-a4dc-d0c6ac12b838",
   "metadata": {
    "jupyter": {
     "source_hidden": true
    }
   },
   "outputs": [
    {
     "ename": "LoadError",
     "evalue": "type Nothing has no field levels",
     "output_type": "error",
     "traceback": [
      "type Nothing has no field levels",
      "",
      "Stacktrace:",
      " [1] getproperty(x::Nothing, f::Symbol)",
      "   @ Base ./Base.jl:37",
      " [2] top-level scope",
      "   @ ./In[42]:3"
     ]
    }
   ],
   "source": [
    "let\n",
    "    L = h; # select a level of the tree to test, in this case let's look at the last level\n",
    "    nodeid = latticemodel.levels[L]; # get the nodeids for level L\n",
    "    probability_array = Array{Float64,1}(); # initialize some storage for the unique probabilities\n",
    "    \n",
    "    for i ∈ nodeid # iterate through the nodeids\n",
    "        node = latticemodel.data[i]; # get the node for id i\n",
    "        \n",
    "        probability = node.probability; # get the probability from the node model\n",
    "        if ((probability ∈ probability_array) == false) # do we already have this probability, or is this a duplicate node?\n",
    "            push!(probability_array,probability); # unique node\n",
    "        end\n",
    "    end\n",
    "    @assert sum(probability_array) ≈ 1 # \\approx function (fancy)\n",
    "end;"
   ]
  },
  {
   "cell_type": "markdown",
   "id": "d1698de2-7087-4f27-b193-d3e414ab5a88",
   "metadata": {},
   "source": [
    "### Visualize trinomial lattice simulation\n",
    "Next, look at how the trinomial model simulations compare with market observations. In particular, we'll compute the expected value and the variance of the simulated price as a function of time, i.e., at each level in the tree using the local [`𝔼(...)`](src/Compute.jl) and [`Var(...)` functions](src/Compute.jl).\n",
    "* The `levels` array holds the index of the tree levels, i.e., the time slices. The [`𝔼(...)`](src/Compute.jl) and [`Var(...)` functions](src/Compute.jl) take the `latticemodel` tree model, and the `levels` array and return the expectation and the variance, respectively. "
   ]
  },
  {
   "cell_type": "code",
   "execution_count": 44,
   "id": "800b7841-65d2-47e6-a881-c8ba4ee0c380",
   "metadata": {},
   "outputs": [
    {
     "ename": "LoadError",
     "evalue": "MethodError: no method matching -(::Nothing, ::Int64)\n\n\u001b[0mClosest candidates are:\n\u001b[0m  -(\u001b[91m::BigInt\u001b[39m, ::Union{Int16, Int32, Int64, Int8})\n\u001b[0m\u001b[90m   @\u001b[39m \u001b[90mBase\u001b[39m \u001b[90m\u001b[4mgmp.jl:557\u001b[24m\u001b[39m\n\u001b[0m  -(\u001b[91m::ChainRulesCore.NotImplemented\u001b[39m, ::Any)\n\u001b[0m\u001b[90m   @\u001b[39m \u001b[35mChainRulesCore\u001b[39m \u001b[90m~/.julia/packages/ChainRulesCore/6Pucz/src/\u001b[39m\u001b[90m\u001b[4mtangent_arithmetic.jl:49\u001b[24m\u001b[39m\n\u001b[0m  -(::Any, \u001b[91m::ChainRulesCore.NotImplemented\u001b[39m)\n\u001b[0m\u001b[90m   @\u001b[39m \u001b[35mChainRulesCore\u001b[39m \u001b[90m~/.julia/packages/ChainRulesCore/6Pucz/src/\u001b[39m\u001b[90m\u001b[4mtangent_arithmetic.jl:50\u001b[24m\u001b[39m\n\u001b[0m  ...\n",
     "output_type": "error",
     "traceback": [
      "MethodError: no method matching -(::Nothing, ::Int64)\n\n\u001b[0mClosest candidates are:\n\u001b[0m  -(\u001b[91m::BigInt\u001b[39m, ::Union{Int16, Int32, Int64, Int8})\n\u001b[0m\u001b[90m   @\u001b[39m \u001b[90mBase\u001b[39m \u001b[90m\u001b[4mgmp.jl:557\u001b[24m\u001b[39m\n\u001b[0m  -(\u001b[91m::ChainRulesCore.NotImplemented\u001b[39m, ::Any)\n\u001b[0m\u001b[90m   @\u001b[39m \u001b[35mChainRulesCore\u001b[39m \u001b[90m~/.julia/packages/ChainRulesCore/6Pucz/src/\u001b[39m\u001b[90m\u001b[4mtangent_arithmetic.jl:49\u001b[24m\u001b[39m\n\u001b[0m  -(::Any, \u001b[91m::ChainRulesCore.NotImplemented\u001b[39m)\n\u001b[0m\u001b[90m   @\u001b[39m \u001b[35mChainRulesCore\u001b[39m \u001b[90m~/.julia/packages/ChainRulesCore/6Pucz/src/\u001b[39m\u001b[90m\u001b[4mtangent_arithmetic.jl:50\u001b[24m\u001b[39m\n\u001b[0m  ...\n",
      "",
      "Stacktrace:",
      " [1] top-level scope",
      "   @ In[44]:1"
     ]
    }
   ],
   "source": [
    "levels = [k for k ∈ 0:(h-1)]\n",
    "expectation = 𝔼(latticemodel, levels); # compute the expected value\n",
    "variance = Var(latticemodel, levels); # compute the variance"
   ]
  },
  {
   "cell_type": "markdown",
   "id": "c0d201e9-773e-4133-9c1f-43f259d9d09c",
   "metadata": {},
   "source": [
    "#### Summary\n",
    "`Unhide` the code block below to see how we plotted the model simulations and the observed prices for a randomly selected firm using a binomial lattice model.\n",
    "* The observed price (red and green lines) may or may not lie in the $\\pm\\,{z}\\cdot\\sigma$ confidence ranges, where `z = {1,1.96,2.576}` which are shown in progressively lighter shades of blue (depending upon the date range selected). The solid green line with circles is the [observed VWAP price](https://en.wikipedia.org/wiki/Volume-weighted_average_price), and the solid red line with circles is the close price for `SPY` in the date range simulated."
   ]
  },
  {
   "cell_type": "code",
   "execution_count": 46,
   "id": "7da9292d-0cf2-4592-9fb4-ef57e4168af7",
   "metadata": {
    "jupyter": {
     "source_hidden": true
    }
   },
   "outputs": [
    {
     "ename": "LoadError",
     "evalue": "UndefVarError: `expectation` not defined",
     "output_type": "error",
     "traceback": [
      "UndefVarError: `expectation` not defined",
      "",
      "Stacktrace:",
      " [1] top-level scope",
      "   @ In[46]:2"
     ]
    }
   ],
   "source": [
    "let \n",
    "    L68 = expectation[:,2] .- sqrt.(variance[:,2])\n",
    "    U68 = expectation[:,2] .+ sqrt.(variance[:,2])\n",
    "    L95 = expectation[:,2] .- 1.96*sqrt.(variance[:,2])\n",
    "    U95 = expectation[:,2] .+ 1.96*sqrt.(variance[:,2])\n",
    "    L99 = expectation[:,2] .- 2.576*sqrt.(variance[:,2])\n",
    "    U99 = expectation[:,2] .+ 2.576*sqrt.(variance[:,2])\n",
    "\n",
    "\n",
    "    T_range = range(random_start_index,stop=random_stop_index,step=1) |> collect\n",
    "    random_firm_data = original_training_dataset[ticker_to_analyze]\n",
    "    key = :close\n",
    "    \n",
    "    plot(expectation[:,1], expectation[:,2], fillrange=L68, c=:deepskyblue1, alpha=0.4, label=\"\")\n",
    "    plot!(expectation[:,1], expectation[:,2], fillrange=U68, c=:deepskyblue1, alpha=0.4, label=\"\")\n",
    "    plot!(expectation[:,1], expectation[:,2], fillrange=L95, c=:deepskyblue1, alpha=0.3, label=\"\")\n",
    "    plot!(expectation[:,1], expectation[:,2], fillrange=U95, c=:deepskyblue1, alpha=0.3, label=\"\")\n",
    "    plot!(expectation[:,1], expectation[:,2], fillrange=L99, c=:deepskyblue1, alpha=0.2, label=\"\")\n",
    "    plot!(expectation[:,1], expectation[:,2], fillrange=U99, c=:deepskyblue1, alpha=0.2, label=\"\")\n",
    "    plot!(expectation[:,1], expectation[:,2], c=:blue, lw=3,ls=:dash, label=\"expectation\")\n",
    "    \n",
    "    # data - close\n",
    "    plot!(expectation[:,1], random_firm_data[T_range, key],  \n",
    "        lw=4, c=:red, label=\"Close Firm-$(ticker_to_analyze)\", legend = :topleft)\n",
    "    scatter!(expectation[:,1], random_firm_data[T_range, key], label=\"\", \n",
    "        msc=:red, mc=:white)\n",
    "\n",
    "    # data - vwap\n",
    "    plot!(expectation[:,1], random_firm_data[T_range, :volume_weighted_average_price],  \n",
    "        lw=4, c=:green, label=\"VWAP Firm-$(ticker_to_analyze)\", legend = :topleft)\n",
    "    scatter!(expectation[:,1], random_firm_data[T_range, :volume_weighted_average_price], label=\"\", \n",
    "        msc=:green, mc=:white)\n",
    "\n",
    "    xlabel!(\"Time (days)\", fontsize=18)\n",
    "    ylabel!(\"Firm-$(ticker_to_analyze) share price (USD/share)\", fontsize=18)\n",
    "end"
   ]
  },
  {
   "cell_type": "markdown",
   "id": "df00b295-2793-4f8b-8e51-e804e0b29901",
   "metadata": {},
   "source": [
    "## Task 3: Was the simulation successful for the specified time range?\n",
    "In this task, we will check the accuracy of the trinomial price projection for `SPY.` Determining if a model accurately represents data can be done in various ways, e.g., by looking at the stylized facts or calculating some other figure of merit. We'll do this later, but for now, let's think about this question purely in terms of the price prediction.\n",
    "\n",
    "#### A simple functional test\n",
    "We will utilize a simple, straightforward, functional test here. This test involves checking if the simulated price falls within a specified lower bound ($L_{j}$) and upper bound ($U_{j}$) for all times $t_j$ within a given interval ($t_{j}\\in\\mathcal{I}_{k}$). \n",
    "* __Success__: If the simulation is bounded between $L_{j}$ and $U_{j}$ for $\\forall{t}_{j}\\in\\mathcal{I}_{k}$, it is a `success.` The values for $L_{j}$ and $U_{j}$ can be customized, but we set these to $\\mathbb{E}(X)\\pm{2.576}\\cdot{\\sigma}$, where $\\mathbb{E}(X)$ represents the expected share price value and $\\sigma$ is the standard deviation of the lattice model simulation. \n",
    "* __Failure__: However, if the actual price exceeds the given bounds at any point, the simulation is considered a `failure.`"
   ]
  },
  {
   "cell_type": "code",
   "execution_count": 48,
   "id": "062c3a26-513e-40db-a993-c9e090955ec8",
   "metadata": {
    "jupyter": {
     "source_hidden": true
    }
   },
   "outputs": [
    {
     "ename": "LoadError",
     "evalue": "UndefVarError: `expectation` not defined",
     "output_type": "error",
     "traceback": [
      "UndefVarError: `expectation` not defined",
      "",
      "Stacktrace:",
      " [1] top-level scope",
      "   @ ./In[48]:5"
     ]
    }
   ],
   "source": [
    "let\n",
    "\n",
    "    # initialize -\n",
    "    z = 2.576\n",
    "    L = expectation[:,2] .- z*sqrt.(variance[:,2])\n",
    "    U = expectation[:,2] .+ z*sqrt.(variance[:,2])\n",
    "    random_firm_data = original_training_dataset[ticker_to_analyze]\n",
    "    T_range = range(random_start_index,stop=random_stop_index,step=1) |> collect\n",
    "    key = :volume_weighted_average_price\n",
    "    \n",
    "    # check the bounds: if below L, or above U then the simulation failed\n",
    "    success_flag = true;\n",
    "    for k ∈ eachindex(T_range)\n",
    "        price_value = random_firm_data[T_range[k], key];    \n",
    "        if (price_value < L[k]) || (price_value > U[k])            \n",
    "            success_flag = false;\n",
    "            break;\n",
    "        end\n",
    "    end\n",
    "\n",
    "    println(\"The share price simulation of SPY between ($(random_start_index) -> $(random_stop_index)) was successful: $(success_flag)\")\n",
    "end"
   ]
  },
  {
   "cell_type": "code",
   "execution_count": 49,
   "id": "49d028ed-f46e-42f6-a519-31e90dfe9d37",
   "metadata": {},
   "outputs": [],
   "source": [
    "does_simulation_pass_simple_test = nothing; # TODO: update this flag {true | false} given simulation results above"
   ]
  },
  {
   "cell_type": "markdown",
   "id": "2d002646-0e00-438f-b0ff-82c0f39ea7f4",
   "metadata": {},
   "source": [
    "#### Discussion\n",
    "* What role does the choice of the `z`-parameter play in the classification of the simulation as a `success` or `failure`?"
   ]
  },
  {
   "cell_type": "code",
   "execution_count": 51,
   "id": "05a07317-05d5-44d3-8ef2-0be2a9f694a3",
   "metadata": {},
   "outputs": [],
   "source": [
    "# discussion answer goes here"
   ]
  },
  {
   "cell_type": "markdown",
   "id": "a83ee64c-f5f9-45e6-9bbb-d1eb034451e9",
   "metadata": {},
   "source": [
    "## Testing\n",
    "In the code block below, we compare your answers to the teaching team and give you feedback on which items are the same (which presumably means they are correct) and which are different. `Unhide` the code block below (if you are curious) about how we implemented the tests and what we are testing.\n",
    "* __Note__: If you do the challenge problem, you may need to update the testing logic below."
   ]
  },
  {
   "cell_type": "code",
   "execution_count": 53,
   "id": "1e2a8b24-0d59-493f-9c01-1693ac4f4d8a",
   "metadata": {
    "jupyter": {
     "source_hidden": true
    }
   },
   "outputs": [],
   "source": [
    "# let\n",
    "#     path_to_soln_file = joinpath(_PATH_TO_SOLN,\"PS2-TeachingTeam-Solution-CHEME-5660-Fall-2024.jld2\"); # set the path to the solution file\n",
    "\n",
    "#     # grab the leaves -\n",
    "#     my_leaf_array = Array{MyTrinomialLatticeNodeModel,1}();\n",
    "#     nodeid = latticemodel.levels[h-3];\n",
    "#     for i ∈ nodeid\n",
    "#         node = latticemodel.data[i];\n",
    "#         push!(my_leaf_array, node);\n",
    "#     end\n",
    "\n",
    "    \n",
    "#     # write the solution file\n",
    "#     save(path_to_soln_file, Dict(\"h\" => h, \"random_start_index\" => random_start_index, \"ticker_to_analyze\" => ticker_to_analyze,\n",
    "#             \"ϵ\" => ϵ, \"Δt\" => Δt, \"Sₒ\" => Sₒ, \"parameters\" => parameters, \"log_growth_array\" => log_growth_array, \n",
    "#             \"does_simulation_pass_simple_test\" => does_simulation_pass_simple_test, \n",
    "#             \"leaves\" => my_leaf_array, \"expectation\" => expectation, \"variance\" => variance,\n",
    "#             \"leaflevel\"=> (h - 3)));\n",
    "# end"
   ]
  },
  {
   "cell_type": "code",
   "execution_count": 54,
   "id": "3c99c576-8d13-4779-ac53-ed7dffeb08f1",
   "metadata": {
    "jupyter": {
     "source_hidden": true
    }
   },
   "outputs": [
    {
     "name": "stdout",
     "output_type": "stream",
     "text": [
      "checking problem setup: \u001b[91m\u001b[1mTest Failed\u001b[22m\u001b[39m at \u001b[39m\u001b[1mIn[54]:15\u001b[22m\n",
      "  Expression: hsoln == h\n",
      "   Evaluated: 13 == nothing\n",
      "\n",
      "Stacktrace:\n",
      "  [1] \u001b[0m\u001b[1mmacro expansion\u001b[22m\n",
      "\u001b[90m    @\u001b[39m \u001b[90m~/.julia/juliaup/julia-1.10.5+0.aarch64.apple.darwin14/share/julia/stdlib/v1.10/Test/src/\u001b[39m\u001b[90m\u001b[4mTest.jl:672\u001b[24m\u001b[39m\u001b[90m [inlined]\u001b[39m\n",
      "  [2] \u001b[0m\u001b[1mmacro expansion\u001b[22m\n",
      "\u001b[90m    @\u001b[39m \u001b[90m./\u001b[39m\u001b[90m\u001b[4mIn[54]:15\u001b[24m\u001b[39m\u001b[90m [inlined]\u001b[39m\n",
      "  [3] \u001b[0m\u001b[1mmacro expansion\u001b[22m\n",
      "\u001b[90m    @\u001b[39m \u001b[90m~/.julia/juliaup/julia-1.10.5+0.aarch64.apple.darwin14/share/julia/stdlib/v1.10/Test/src/\u001b[39m\u001b[90m\u001b[4mTest.jl:1577\u001b[24m\u001b[39m\u001b[90m [inlined]\u001b[39m\n",
      "  [4] \u001b[0m\u001b[1mmacro expansion\u001b[22m\n",
      "\u001b[90m    @\u001b[39m \u001b[90m./\u001b[39m\u001b[90m\u001b[4mIn[54]:8\u001b[24m\u001b[39m\u001b[90m [inlined]\u001b[39m\n",
      "  [5] \u001b[0m\u001b[1mmacro expansion\u001b[22m\n",
      "\u001b[90m    @\u001b[39m \u001b[90m~/.julia/juliaup/julia-1.10.5+0.aarch64.apple.darwin14/share/julia/stdlib/v1.10/Test/src/\u001b[39m\u001b[90m\u001b[4mTest.jl:1577\u001b[24m\u001b[39m\u001b[90m [inlined]\u001b[39m\n",
      "  [6] top-level scope\n",
      "\u001b[90m    @\u001b[39m \u001b[90m./\u001b[39m\u001b[90m\u001b[4mIn[54]:7\u001b[24m\u001b[39m\n",
      "  [7] \u001b[0m\u001b[1meval\u001b[22m\n",
      "\u001b[90m    @\u001b[39m \u001b[90m./\u001b[39m\u001b[90m\u001b[4mboot.jl:385\u001b[24m\u001b[39m\u001b[90m [inlined]\u001b[39m\n",
      "  [8] \u001b[0m\u001b[1minclude_string\u001b[22m\u001b[0m\u001b[1m(\u001b[22m\u001b[90mmapexpr\u001b[39m::\u001b[0mtypeof(REPL.softscope), \u001b[90mmod\u001b[39m::\u001b[0mModule, \u001b[90mcode\u001b[39m::\u001b[0mString, \u001b[90mfilename\u001b[39m::\u001b[0mString\u001b[0m\u001b[1m)\u001b[22m\n",
      "\u001b[90m    @\u001b[39m \u001b[90mBase\u001b[39m \u001b[90m./\u001b[39m\u001b[90m\u001b[4mloading.jl:2076\u001b[24m\u001b[39m\n",
      "  [9] \u001b[0m\u001b[1msoftscope_include_string\u001b[22m\u001b[0m\u001b[1m(\u001b[22m\u001b[90mm\u001b[39m::\u001b[0mModule, \u001b[90mcode\u001b[39m::\u001b[0mString, \u001b[90mfilename\u001b[39m::\u001b[0mString\u001b[0m\u001b[1m)\u001b[22m\n",
      "\u001b[90m    @\u001b[39m \u001b[32mSoftGlobalScope\u001b[39m \u001b[90m~/.julia/packages/SoftGlobalScope/u4UzH/src/\u001b[39m\u001b[90m\u001b[4mSoftGlobalScope.jl:65\u001b[24m\u001b[39m\n",
      " [10] \u001b[0m\u001b[1mexecute_request\u001b[22m\u001b[0m\u001b[1m(\u001b[22m\u001b[90msocket\u001b[39m::\u001b[0mZMQ.Socket, \u001b[90mmsg\u001b[39m::\u001b[0mIJulia.Msg\u001b[0m\u001b[1m)\u001b[22m\n",
      "\u001b[90m    @\u001b[39m \u001b[33mIJulia\u001b[39m \u001b[90m~/.julia/packages/IJulia/Vo51o/src/\u001b[39m\u001b[90m\u001b[4mexecute_request.jl:67\u001b[24m\u001b[39m\n",
      " [11] \u001b[0m\u001b[1m#invokelatest#2\u001b[22m\n",
      "\u001b[90m    @\u001b[39m \u001b[90m./\u001b[39m\u001b[90m\u001b[4messentials.jl:892\u001b[24m\u001b[39m\u001b[90m [inlined]\u001b[39m\n",
      " [12] \u001b[0m\u001b[1minvokelatest\u001b[22m\n",
      "\u001b[90m    @\u001b[39m \u001b[90m./\u001b[39m\u001b[90m\u001b[4messentials.jl:889\u001b[24m\u001b[39m\u001b[90m [inlined]\u001b[39m\n",
      " [13] \u001b[0m\u001b[1meventloop\u001b[22m\u001b[0m\u001b[1m(\u001b[22m\u001b[90msocket\u001b[39m::\u001b[0mZMQ.Socket\u001b[0m\u001b[1m)\u001b[22m\n",
      "\u001b[90m    @\u001b[39m \u001b[33mIJulia\u001b[39m \u001b[90m~/.julia/packages/IJulia/Vo51o/src/\u001b[39m\u001b[90m\u001b[4meventloop.jl:8\u001b[24m\u001b[39m\n",
      " [14] \u001b[0m\u001b[1m(::IJulia.var\"#15#18\")\u001b[22m\u001b[0m\u001b[1m(\u001b[22m\u001b[0m\u001b[1m)\u001b[22m\n",
      "\u001b[90m    @\u001b[39m \u001b[33mIJulia\u001b[39m \u001b[90m~/.julia/packages/IJulia/Vo51o/src/\u001b[39m\u001b[90m\u001b[4meventloop.jl:38\u001b[24m\u001b[39m\n",
      "checking problem setup: \u001b[91m\u001b[1mTest Failed\u001b[22m\u001b[39m at \u001b[39m\u001b[1mIn[54]:16\u001b[22m\n",
      "  Expression: tstartsoln == random_start_index\n",
      "   Evaluated: 1321 == nothing\n",
      "\n",
      "Stacktrace:\n",
      "  [1] \u001b[0m\u001b[1mmacro expansion\u001b[22m\n",
      "\u001b[90m    @\u001b[39m \u001b[90m~/.julia/juliaup/julia-1.10.5+0.aarch64.apple.darwin14/share/julia/stdlib/v1.10/Test/src/\u001b[39m\u001b[90m\u001b[4mTest.jl:672\u001b[24m\u001b[39m\u001b[90m [inlined]\u001b[39m\n",
      "  [2] \u001b[0m\u001b[1mmacro expansion\u001b[22m\n",
      "\u001b[90m    @\u001b[39m \u001b[90m./\u001b[39m\u001b[90m\u001b[4mIn[54]:16\u001b[24m\u001b[39m\u001b[90m [inlined]\u001b[39m\n",
      "  [3] \u001b[0m\u001b[1mmacro expansion\u001b[22m\n",
      "\u001b[90m    @\u001b[39m \u001b[90m~/.julia/juliaup/julia-1.10.5+0.aarch64.apple.darwin14/share/julia/stdlib/v1.10/Test/src/\u001b[39m\u001b[90m\u001b[4mTest.jl:1577\u001b[24m\u001b[39m\u001b[90m [inlined]\u001b[39m\n",
      "  [4] \u001b[0m\u001b[1mmacro expansion\u001b[22m\n",
      "\u001b[90m    @\u001b[39m \u001b[90m./\u001b[39m\u001b[90m\u001b[4mIn[54]:8\u001b[24m\u001b[39m\u001b[90m [inlined]\u001b[39m\n",
      "  [5] \u001b[0m\u001b[1mmacro expansion\u001b[22m\n",
      "\u001b[90m    @\u001b[39m \u001b[90m~/.julia/juliaup/julia-1.10.5+0.aarch64.apple.darwin14/share/julia/stdlib/v1.10/Test/src/\u001b[39m\u001b[90m\u001b[4mTest.jl:1577\u001b[24m\u001b[39m\u001b[90m [inlined]\u001b[39m\n",
      "  [6] top-level scope\n",
      "\u001b[90m    @\u001b[39m \u001b[90m./\u001b[39m\u001b[90m\u001b[4mIn[54]:7\u001b[24m\u001b[39m\n",
      "  [7] \u001b[0m\u001b[1meval\u001b[22m\n",
      "\u001b[90m    @\u001b[39m \u001b[90m./\u001b[39m\u001b[90m\u001b[4mboot.jl:385\u001b[24m\u001b[39m\u001b[90m [inlined]\u001b[39m\n",
      "  [8] \u001b[0m\u001b[1minclude_string\u001b[22m\u001b[0m\u001b[1m(\u001b[22m\u001b[90mmapexpr\u001b[39m::\u001b[0mtypeof(REPL.softscope), \u001b[90mmod\u001b[39m::\u001b[0mModule, \u001b[90mcode\u001b[39m::\u001b[0mString, \u001b[90mfilename\u001b[39m::\u001b[0mString\u001b[0m\u001b[1m)\u001b[22m\n",
      "\u001b[90m    @\u001b[39m \u001b[90mBase\u001b[39m \u001b[90m./\u001b[39m\u001b[90m\u001b[4mloading.jl:2076\u001b[24m\u001b[39m\n",
      "  [9] \u001b[0m\u001b[1msoftscope_include_string\u001b[22m\u001b[0m\u001b[1m(\u001b[22m\u001b[90mm\u001b[39m::\u001b[0mModule, \u001b[90mcode\u001b[39m::\u001b[0mString, \u001b[90mfilename\u001b[39m::\u001b[0mString\u001b[0m\u001b[1m)\u001b[22m\n",
      "\u001b[90m    @\u001b[39m \u001b[32mSoftGlobalScope\u001b[39m \u001b[90m~/.julia/packages/SoftGlobalScope/u4UzH/src/\u001b[39m\u001b[90m\u001b[4mSoftGlobalScope.jl:65\u001b[24m\u001b[39m\n",
      " [10] \u001b[0m\u001b[1mexecute_request\u001b[22m\u001b[0m\u001b[1m(\u001b[22m\u001b[90msocket\u001b[39m::\u001b[0mZMQ.Socket, \u001b[90mmsg\u001b[39m::\u001b[0mIJulia.Msg\u001b[0m\u001b[1m)\u001b[22m\n",
      "\u001b[90m    @\u001b[39m \u001b[33mIJulia\u001b[39m \u001b[90m~/.julia/packages/IJulia/Vo51o/src/\u001b[39m\u001b[90m\u001b[4mexecute_request.jl:67\u001b[24m\u001b[39m\n",
      " [11] \u001b[0m\u001b[1m#invokelatest#2\u001b[22m\n",
      "\u001b[90m    @\u001b[39m \u001b[90m./\u001b[39m\u001b[90m\u001b[4messentials.jl:892\u001b[24m\u001b[39m\u001b[90m [inlined]\u001b[39m\n",
      " [12] \u001b[0m\u001b[1minvokelatest\u001b[22m\n",
      "\u001b[90m    @\u001b[39m \u001b[90m./\u001b[39m\u001b[90m\u001b[4messentials.jl:889\u001b[24m\u001b[39m\u001b[90m [inlined]\u001b[39m\n",
      " [13] \u001b[0m\u001b[1meventloop\u001b[22m\u001b[0m\u001b[1m(\u001b[22m\u001b[90msocket\u001b[39m::\u001b[0mZMQ.Socket\u001b[0m\u001b[1m)\u001b[22m\n",
      "\u001b[90m    @\u001b[39m \u001b[33mIJulia\u001b[39m \u001b[90m~/.julia/packages/IJulia/Vo51o/src/\u001b[39m\u001b[90m\u001b[4meventloop.jl:8\u001b[24m\u001b[39m\n",
      " [14] \u001b[0m\u001b[1m(::IJulia.var\"#15#18\")\u001b[22m\u001b[0m\u001b[1m(\u001b[22m\u001b[0m\u001b[1m)\u001b[22m\n",
      "\u001b[90m    @\u001b[39m \u001b[33mIJulia\u001b[39m \u001b[90m~/.julia/packages/IJulia/Vo51o/src/\u001b[39m\u001b[90m\u001b[4meventloop.jl:38\u001b[24m\u001b[39m\n",
      "checking problem setup: \u001b[91m\u001b[1mError During Test\u001b[22m\u001b[39m at \u001b[39m\u001b[1mIn[54]:17\u001b[22m\n",
      "  Test threw exception\n",
      "  Expression: initialpricesoln == Sₒ\n",
      "  UndefVarError: `Sₒ` not defined\n",
      "  Stacktrace:\n",
      "   [1] \u001b[0m\u001b[1mmacro expansion\u001b[22m\n",
      "  \u001b[90m   @\u001b[39m \u001b[90m~/.julia/juliaup/julia-1.10.5+0.aarch64.apple.darwin14/share/julia/stdlib/v1.10/Test/src/\u001b[39m\u001b[90m\u001b[4mTest.jl:669\u001b[24m\u001b[39m\u001b[90m [inlined]\u001b[39m\n",
      "   [2] \u001b[0m\u001b[1mmacro expansion\u001b[22m\n",
      "  \u001b[90m   @\u001b[39m \u001b[90m./\u001b[39m\u001b[90m\u001b[4mIn[54]:17\u001b[24m\u001b[39m\u001b[90m [inlined]\u001b[39m\n",
      "   [3] \u001b[0m\u001b[1mmacro expansion\u001b[22m\n",
      "  \u001b[90m   @\u001b[39m \u001b[90m~/.julia/juliaup/julia-1.10.5+0.aarch64.apple.darwin14/share/julia/stdlib/v1.10/Test/src/\u001b[39m\u001b[90m\u001b[4mTest.jl:1577\u001b[24m\u001b[39m\u001b[90m [inlined]\u001b[39m\n",
      "   [4] \u001b[0m\u001b[1mmacro expansion\u001b[22m\n",
      "  \u001b[90m   @\u001b[39m \u001b[90m./\u001b[39m\u001b[90m\u001b[4mIn[54]:8\u001b[24m\u001b[39m\u001b[90m [inlined]\u001b[39m\n",
      "   [5] \u001b[0m\u001b[1mmacro expansion\u001b[22m\n",
      "  \u001b[90m   @\u001b[39m \u001b[90m~/.julia/juliaup/julia-1.10.5+0.aarch64.apple.darwin14/share/julia/stdlib/v1.10/Test/src/\u001b[39m\u001b[90m\u001b[4mTest.jl:1577\u001b[24m\u001b[39m\u001b[90m [inlined]\u001b[39m\n",
      "   [6] top-level scope\n",
      "  \u001b[90m   @\u001b[39m \u001b[90m./\u001b[39m\u001b[90m\u001b[4mIn[54]:7\u001b[24m\u001b[39m\n",
      "checking problem setup: \u001b[91m\u001b[1mTest Failed\u001b[22m\u001b[39m at \u001b[39m\u001b[1mIn[54]:20\u001b[22m\n",
      "  Expression: tickersoln == ticker_to_analyze\n",
      "   Evaluated: \"SPY\" == nothing\n",
      "\n",
      "Stacktrace:\n",
      "  [1] \u001b[0m\u001b[1mmacro expansion\u001b[22m\n",
      "\u001b[90m    @\u001b[39m \u001b[90m~/.julia/juliaup/julia-1.10.5+0.aarch64.apple.darwin14/share/julia/stdlib/v1.10/Test/src/\u001b[39m\u001b[90m\u001b[4mTest.jl:672\u001b[24m\u001b[39m\u001b[90m [inlined]\u001b[39m\n",
      "  [2] \u001b[0m\u001b[1mmacro expansion\u001b[22m\n",
      "\u001b[90m    @\u001b[39m \u001b[90m./\u001b[39m\u001b[90m\u001b[4mIn[54]:20\u001b[24m\u001b[39m\u001b[90m [inlined]\u001b[39m\n",
      "  [3] \u001b[0m\u001b[1mmacro expansion\u001b[22m\n",
      "\u001b[90m    @\u001b[39m \u001b[90m~/.julia/juliaup/julia-1.10.5+0.aarch64.apple.darwin14/share/julia/stdlib/v1.10/Test/src/\u001b[39m\u001b[90m\u001b[4mTest.jl:1577\u001b[24m\u001b[39m\u001b[90m [inlined]\u001b[39m\n",
      "  [4] \u001b[0m\u001b[1mmacro expansion\u001b[22m\n",
      "\u001b[90m    @\u001b[39m \u001b[90m./\u001b[39m\u001b[90m\u001b[4mIn[54]:8\u001b[24m\u001b[39m\u001b[90m [inlined]\u001b[39m\n",
      "  [5] \u001b[0m\u001b[1mmacro expansion\u001b[22m\n",
      "\u001b[90m    @\u001b[39m \u001b[90m~/.julia/juliaup/julia-1.10.5+0.aarch64.apple.darwin14/share/julia/stdlib/v1.10/Test/src/\u001b[39m\u001b[90m\u001b[4mTest.jl:1577\u001b[24m\u001b[39m\u001b[90m [inlined]\u001b[39m\n",
      "  [6] top-level scope\n",
      "\u001b[90m    @\u001b[39m \u001b[90m./\u001b[39m\u001b[90m\u001b[4mIn[54]:7\u001b[24m\u001b[39m\n",
      "  [7] \u001b[0m\u001b[1meval\u001b[22m\n",
      "\u001b[90m    @\u001b[39m \u001b[90m./\u001b[39m\u001b[90m\u001b[4mboot.jl:385\u001b[24m\u001b[39m\u001b[90m [inlined]\u001b[39m\n",
      "  [8] \u001b[0m\u001b[1minclude_string\u001b[22m\u001b[0m\u001b[1m(\u001b[22m\u001b[90mmapexpr\u001b[39m::\u001b[0mtypeof(REPL.softscope), \u001b[90mmod\u001b[39m::\u001b[0mModule, \u001b[90mcode\u001b[39m::\u001b[0mString, \u001b[90mfilename\u001b[39m::\u001b[0mString\u001b[0m\u001b[1m)\u001b[22m\n",
      "\u001b[90m    @\u001b[39m \u001b[90mBase\u001b[39m \u001b[90m./\u001b[39m\u001b[90m\u001b[4mloading.jl:2076\u001b[24m\u001b[39m\n",
      "  [9] \u001b[0m\u001b[1msoftscope_include_string\u001b[22m\u001b[0m\u001b[1m(\u001b[22m\u001b[90mm\u001b[39m::\u001b[0mModule, \u001b[90mcode\u001b[39m::\u001b[0mString, \u001b[90mfilename\u001b[39m::\u001b[0mString\u001b[0m\u001b[1m)\u001b[22m\n",
      "\u001b[90m    @\u001b[39m \u001b[32mSoftGlobalScope\u001b[39m \u001b[90m~/.julia/packages/SoftGlobalScope/u4UzH/src/\u001b[39m\u001b[90m\u001b[4mSoftGlobalScope.jl:65\u001b[24m\u001b[39m\n",
      " [10] \u001b[0m\u001b[1mexecute_request\u001b[22m\u001b[0m\u001b[1m(\u001b[22m\u001b[90msocket\u001b[39m::\u001b[0mZMQ.Socket, \u001b[90mmsg\u001b[39m::\u001b[0mIJulia.Msg\u001b[0m\u001b[1m)\u001b[22m\n",
      "\u001b[90m    @\u001b[39m \u001b[33mIJulia\u001b[39m \u001b[90m~/.julia/packages/IJulia/Vo51o/src/\u001b[39m\u001b[90m\u001b[4mexecute_request.jl:67\u001b[24m\u001b[39m\n",
      " [11] \u001b[0m\u001b[1m#invokelatest#2\u001b[22m\n",
      "\u001b[90m    @\u001b[39m \u001b[90m./\u001b[39m\u001b[90m\u001b[4messentials.jl:892\u001b[24m\u001b[39m\u001b[90m [inlined]\u001b[39m\n",
      " [12] \u001b[0m\u001b[1minvokelatest\u001b[22m\n",
      "\u001b[90m    @\u001b[39m \u001b[90m./\u001b[39m\u001b[90m\u001b[4messentials.jl:889\u001b[24m\u001b[39m\u001b[90m [inlined]\u001b[39m\n",
      " [13] \u001b[0m\u001b[1meventloop\u001b[22m\u001b[0m\u001b[1m(\u001b[22m\u001b[90msocket\u001b[39m::\u001b[0mZMQ.Socket\u001b[0m\u001b[1m)\u001b[22m\n",
      "\u001b[90m    @\u001b[39m \u001b[33mIJulia\u001b[39m \u001b[90m~/.julia/packages/IJulia/Vo51o/src/\u001b[39m\u001b[90m\u001b[4meventloop.jl:8\u001b[24m\u001b[39m\n",
      " [14] \u001b[0m\u001b[1m(::IJulia.var\"#15#18\")\u001b[22m\u001b[0m\u001b[1m(\u001b[22m\u001b[0m\u001b[1m)\u001b[22m\n",
      "\u001b[90m    @\u001b[39m \u001b[33mIJulia\u001b[39m \u001b[90m~/.julia/packages/IJulia/Vo51o/src/\u001b[39m\u001b[90m\u001b[4meventloop.jl:38\u001b[24m\u001b[39m\n",
      "check log growth array: \u001b[91m\u001b[1mError During Test\u001b[22m\u001b[39m at \u001b[39m\u001b[1mIn[54]:23\u001b[22m\n",
      "  Got exception outside of a @test\n",
      "  MethodError: no method matching size(::Nothing)\n",
      "  \n",
      "  \u001b[0mClosest candidates are:\n",
      "  \u001b[0m  size(\u001b[91m::BitVector\u001b[39m)\n",
      "  \u001b[0m\u001b[90m   @\u001b[39m \u001b[90mBase\u001b[39m \u001b[90m\u001b[4mbitarray.jl:104\u001b[24m\u001b[39m\n",
      "  \u001b[0m  size(\u001b[91m::BitVector\u001b[39m, \u001b[91m::Integer\u001b[39m)\n",
      "  \u001b[0m\u001b[90m   @\u001b[39m \u001b[90mBase\u001b[39m \u001b[90m\u001b[4mbitarray.jl:107\u001b[24m\u001b[39m\n",
      "  \u001b[0m  size(\u001b[91m::Core.Compiler.StmtRange\u001b[39m)\n",
      "  \u001b[0m\u001b[90m   @\u001b[39m \u001b[90mBase\u001b[39m \u001b[90m\u001b[4mshow.jl:2774\u001b[24m\u001b[39m\n",
      "  \u001b[0m  ...\n",
      "  \n",
      "  Stacktrace:\n",
      "    [1] \u001b[0m\u001b[1mmacro expansion\u001b[22m\n",
      "  \u001b[90m    @\u001b[39m \u001b[90m./\u001b[39m\u001b[90m\u001b[4mIn[54]:26\u001b[24m\u001b[39m\u001b[90m [inlined]\u001b[39m\n",
      "    [2] \u001b[0m\u001b[1mmacro expansion\u001b[22m\n",
      "  \u001b[90m    @\u001b[39m \u001b[90m~/.julia/juliaup/julia-1.10.5+0.aarch64.apple.darwin14/share/julia/stdlib/v1.10/Test/src/\u001b[39m\u001b[90m\u001b[4mTest.jl:1577\u001b[24m\u001b[39m\u001b[90m [inlined]\u001b[39m\n",
      "    [3] \u001b[0m\u001b[1mmacro expansion\u001b[22m\n",
      "  \u001b[90m    @\u001b[39m \u001b[90m./\u001b[39m\u001b[90m\u001b[4mIn[54]:24\u001b[24m\u001b[39m\u001b[90m [inlined]\u001b[39m\n",
      "    [4] \u001b[0m\u001b[1mmacro expansion\u001b[22m\n",
      "  \u001b[90m    @\u001b[39m \u001b[90m~/.julia/juliaup/julia-1.10.5+0.aarch64.apple.darwin14/share/julia/stdlib/v1.10/Test/src/\u001b[39m\u001b[90m\u001b[4mTest.jl:1577\u001b[24m\u001b[39m\u001b[90m [inlined]\u001b[39m\n",
      "    [5] top-level scope\n",
      "  \u001b[90m    @\u001b[39m \u001b[90m./\u001b[39m\u001b[90m\u001b[4mIn[54]:7\u001b[24m\u001b[39m\n",
      "    [6] \u001b[0m\u001b[1meval\u001b[22m\n",
      "  \u001b[90m    @\u001b[39m \u001b[90m./\u001b[39m\u001b[90m\u001b[4mboot.jl:385\u001b[24m\u001b[39m\u001b[90m [inlined]\u001b[39m\n",
      "    [7] \u001b[0m\u001b[1minclude_string\u001b[22m\u001b[0m\u001b[1m(\u001b[22m\u001b[90mmapexpr\u001b[39m::\u001b[0mtypeof(REPL.softscope), \u001b[90mmod\u001b[39m::\u001b[0mModule, \u001b[90mcode\u001b[39m::\u001b[0mString, \u001b[90mfilename\u001b[39m::\u001b[0mString\u001b[0m\u001b[1m)\u001b[22m\n",
      "  \u001b[90m    @\u001b[39m \u001b[90mBase\u001b[39m \u001b[90m./\u001b[39m\u001b[90m\u001b[4mloading.jl:2076\u001b[24m\u001b[39m\n",
      "    [8] \u001b[0m\u001b[1msoftscope_include_string\u001b[22m\u001b[0m\u001b[1m(\u001b[22m\u001b[90mm\u001b[39m::\u001b[0mModule, \u001b[90mcode\u001b[39m::\u001b[0mString, \u001b[90mfilename\u001b[39m::\u001b[0mString\u001b[0m\u001b[1m)\u001b[22m\n",
      "  \u001b[90m    @\u001b[39m \u001b[32mSoftGlobalScope\u001b[39m \u001b[90m~/.julia/packages/SoftGlobalScope/u4UzH/src/\u001b[39m\u001b[90m\u001b[4mSoftGlobalScope.jl:65\u001b[24m\u001b[39m\n",
      "    [9] \u001b[0m\u001b[1mexecute_request\u001b[22m\u001b[0m\u001b[1m(\u001b[22m\u001b[90msocket\u001b[39m::\u001b[0mZMQ.Socket, \u001b[90mmsg\u001b[39m::\u001b[0mIJulia.Msg\u001b[0m\u001b[1m)\u001b[22m\n",
      "  \u001b[90m    @\u001b[39m \u001b[33mIJulia\u001b[39m \u001b[90m~/.julia/packages/IJulia/Vo51o/src/\u001b[39m\u001b[90m\u001b[4mexecute_request.jl:67\u001b[24m\u001b[39m\n",
      "   [10] \u001b[0m\u001b[1m#invokelatest#2\u001b[22m\n",
      "  \u001b[90m    @\u001b[39m \u001b[90m./\u001b[39m\u001b[90m\u001b[4messentials.jl:892\u001b[24m\u001b[39m\u001b[90m [inlined]\u001b[39m\n",
      "   [11] \u001b[0m\u001b[1minvokelatest\u001b[22m\n",
      "  \u001b[90m    @\u001b[39m \u001b[90m./\u001b[39m\u001b[90m\u001b[4messentials.jl:889\u001b[24m\u001b[39m\u001b[90m [inlined]\u001b[39m\n",
      "   [12] \u001b[0m\u001b[1meventloop\u001b[22m\u001b[0m\u001b[1m(\u001b[22m\u001b[90msocket\u001b[39m::\u001b[0mZMQ.Socket\u001b[0m\u001b[1m)\u001b[22m\n",
      "  \u001b[90m    @\u001b[39m \u001b[33mIJulia\u001b[39m \u001b[90m~/.julia/packages/IJulia/Vo51o/src/\u001b[39m\u001b[90m\u001b[4meventloop.jl:8\u001b[24m\u001b[39m\n",
      "   [13] \u001b[0m\u001b[1m(::IJulia.var\"#15#18\")\u001b[22m\u001b[0m\u001b[1m(\u001b[22m\u001b[0m\u001b[1m)\u001b[22m\n",
      "  \u001b[90m    @\u001b[39m \u001b[33mIJulia\u001b[39m \u001b[90m~/.julia/packages/IJulia/Vo51o/src/\u001b[39m\u001b[90m\u001b[4meventloop.jl:38\u001b[24m\u001b[39m\n",
      "checking parameters: \u001b[91m\u001b[1mError During Test\u001b[22m\u001b[39m at \u001b[39m\u001b[1mIn[54]:38\u001b[22m\n",
      "  Test threw exception\n",
      "  Expression: isapprox(my_estimated_parameters.p, parameters.p, atol = 0.0001)\n",
      "  type Nothing has no field p\n",
      "  Stacktrace:\n",
      "   [1] \u001b[0m\u001b[1mgetproperty\u001b[22m\u001b[0m\u001b[1m(\u001b[22m\u001b[90mx\u001b[39m::\u001b[0mNothing, \u001b[90mf\u001b[39m::\u001b[0mSymbol\u001b[0m\u001b[1m)\u001b[22m\n",
      "  \u001b[90m   @\u001b[39m \u001b[90mBase\u001b[39m \u001b[90m./\u001b[39m\u001b[90m\u001b[4mBase.jl:37\u001b[24m\u001b[39m\n",
      "   [2] \u001b[0m\u001b[1mmacro expansion\u001b[22m\n",
      "  \u001b[90m   @\u001b[39m \u001b[90m~/.julia/juliaup/julia-1.10.5+0.aarch64.apple.darwin14/share/julia/stdlib/v1.10/Test/src/\u001b[39m\u001b[90m\u001b[4mTest.jl:669\u001b[24m\u001b[39m\u001b[90m [inlined]\u001b[39m\n",
      "   [3] \u001b[0m\u001b[1mmacro expansion\u001b[22m\n",
      "  \u001b[90m   @\u001b[39m \u001b[90m./\u001b[39m\u001b[90m\u001b[4mIn[54]:38\u001b[24m\u001b[39m\u001b[90m [inlined]\u001b[39m\n",
      "   [4] \u001b[0m\u001b[1mmacro expansion\u001b[22m\n",
      "  \u001b[90m   @\u001b[39m \u001b[90m~/.julia/juliaup/julia-1.10.5+0.aarch64.apple.darwin14/share/julia/stdlib/v1.10/Test/src/\u001b[39m\u001b[90m\u001b[4mTest.jl:1577\u001b[24m\u001b[39m\u001b[90m [inlined]\u001b[39m\n",
      "   [5] \u001b[0m\u001b[1mmacro expansion\u001b[22m\n",
      "  \u001b[90m   @\u001b[39m \u001b[90m./\u001b[39m\u001b[90m\u001b[4mIn[54]:35\u001b[24m\u001b[39m\u001b[90m [inlined]\u001b[39m\n",
      "   [6] \u001b[0m\u001b[1mmacro expansion\u001b[22m\n",
      "  \u001b[90m   @\u001b[39m \u001b[90m~/.julia/juliaup/julia-1.10.5+0.aarch64.apple.darwin14/share/julia/stdlib/v1.10/Test/src/\u001b[39m\u001b[90m\u001b[4mTest.jl:1577\u001b[24m\u001b[39m\u001b[90m [inlined]\u001b[39m\n",
      "   [7] top-level scope\n",
      "  \u001b[90m   @\u001b[39m \u001b[90m./\u001b[39m\u001b[90m\u001b[4mIn[54]:7\u001b[24m\u001b[39m\n",
      "checking parameters: \u001b[91m\u001b[1mError During Test\u001b[22m\u001b[39m at \u001b[39m\u001b[1mIn[54]:39\u001b[22m\n",
      "  Test threw exception\n",
      "  Expression: isapprox(my_estimated_parameters.p̄, parameters.p̄, atol = 0.0001)\n",
      "  type Nothing has no field p̄\n",
      "  Stacktrace:\n",
      "   [1] \u001b[0m\u001b[1mgetproperty\u001b[22m\u001b[0m\u001b[1m(\u001b[22m\u001b[90mx\u001b[39m::\u001b[0mNothing, \u001b[90mf\u001b[39m::\u001b[0mSymbol\u001b[0m\u001b[1m)\u001b[22m\n",
      "  \u001b[90m   @\u001b[39m \u001b[90mBase\u001b[39m \u001b[90m./\u001b[39m\u001b[90m\u001b[4mBase.jl:37\u001b[24m\u001b[39m\n",
      "   [2] \u001b[0m\u001b[1mmacro expansion\u001b[22m\n",
      "  \u001b[90m   @\u001b[39m \u001b[90m~/.julia/juliaup/julia-1.10.5+0.aarch64.apple.darwin14/share/julia/stdlib/v1.10/Test/src/\u001b[39m\u001b[90m\u001b[4mTest.jl:669\u001b[24m\u001b[39m\u001b[90m [inlined]\u001b[39m\n",
      "   [3] \u001b[0m\u001b[1mmacro expansion\u001b[22m\n",
      "  \u001b[90m   @\u001b[39m \u001b[90m./\u001b[39m\u001b[90m\u001b[4mIn[54]:39\u001b[24m\u001b[39m\u001b[90m [inlined]\u001b[39m\n",
      "   [4] \u001b[0m\u001b[1mmacro expansion\u001b[22m\n",
      "  \u001b[90m   @\u001b[39m \u001b[90m~/.julia/juliaup/julia-1.10.5+0.aarch64.apple.darwin14/share/julia/stdlib/v1.10/Test/src/\u001b[39m\u001b[90m\u001b[4mTest.jl:1577\u001b[24m\u001b[39m\u001b[90m [inlined]\u001b[39m\n",
      "   [5] \u001b[0m\u001b[1mmacro expansion\u001b[22m\n",
      "  \u001b[90m   @\u001b[39m \u001b[90m./\u001b[39m\u001b[90m\u001b[4mIn[54]:35\u001b[24m\u001b[39m\u001b[90m [inlined]\u001b[39m\n",
      "   [6] \u001b[0m\u001b[1mmacro expansion\u001b[22m\n",
      "  \u001b[90m   @\u001b[39m \u001b[90m~/.julia/juliaup/julia-1.10.5+0.aarch64.apple.darwin14/share/julia/stdlib/v1.10/Test/src/\u001b[39m\u001b[90m\u001b[4mTest.jl:1577\u001b[24m\u001b[39m\u001b[90m [inlined]\u001b[39m\n",
      "   [7] top-level scope\n",
      "  \u001b[90m   @\u001b[39m \u001b[90m./\u001b[39m\u001b[90m\u001b[4mIn[54]:7\u001b[24m\u001b[39m\n",
      "checking parameters: \u001b[91m\u001b[1mError During Test\u001b[22m\u001b[39m at \u001b[39m\u001b[1mIn[54]:40\u001b[22m\n",
      "  Test threw exception\n",
      "  Expression: isapprox(my_estimated_parameters.q, parameters.q, atol = 0.0001)\n",
      "  type Nothing has no field q\n",
      "  Stacktrace:\n",
      "   [1] \u001b[0m\u001b[1mgetproperty\u001b[22m\u001b[0m\u001b[1m(\u001b[22m\u001b[90mx\u001b[39m::\u001b[0mNothing, \u001b[90mf\u001b[39m::\u001b[0mSymbol\u001b[0m\u001b[1m)\u001b[22m\n",
      "  \u001b[90m   @\u001b[39m \u001b[90mBase\u001b[39m \u001b[90m./\u001b[39m\u001b[90m\u001b[4mBase.jl:37\u001b[24m\u001b[39m\n",
      "   [2] \u001b[0m\u001b[1mmacro expansion\u001b[22m\n",
      "  \u001b[90m   @\u001b[39m \u001b[90m~/.julia/juliaup/julia-1.10.5+0.aarch64.apple.darwin14/share/julia/stdlib/v1.10/Test/src/\u001b[39m\u001b[90m\u001b[4mTest.jl:669\u001b[24m\u001b[39m\u001b[90m [inlined]\u001b[39m\n",
      "   [3] \u001b[0m\u001b[1mmacro expansion\u001b[22m\n",
      "  \u001b[90m   @\u001b[39m \u001b[90m./\u001b[39m\u001b[90m\u001b[4mIn[54]:40\u001b[24m\u001b[39m\u001b[90m [inlined]\u001b[39m\n",
      "   [4] \u001b[0m\u001b[1mmacro expansion\u001b[22m\n",
      "  \u001b[90m   @\u001b[39m \u001b[90m~/.julia/juliaup/julia-1.10.5+0.aarch64.apple.darwin14/share/julia/stdlib/v1.10/Test/src/\u001b[39m\u001b[90m\u001b[4mTest.jl:1577\u001b[24m\u001b[39m\u001b[90m [inlined]\u001b[39m\n",
      "   [5] \u001b[0m\u001b[1mmacro expansion\u001b[22m\n",
      "  \u001b[90m   @\u001b[39m \u001b[90m./\u001b[39m\u001b[90m\u001b[4mIn[54]:35\u001b[24m\u001b[39m\u001b[90m [inlined]\u001b[39m\n",
      "   [6] \u001b[0m\u001b[1mmacro expansion\u001b[22m\n",
      "  \u001b[90m   @\u001b[39m \u001b[90m~/.julia/juliaup/julia-1.10.5+0.aarch64.apple.darwin14/share/julia/stdlib/v1.10/Test/src/\u001b[39m\u001b[90m\u001b[4mTest.jl:1577\u001b[24m\u001b[39m\u001b[90m [inlined]\u001b[39m\n",
      "   [7] top-level scope\n",
      "  \u001b[90m   @\u001b[39m \u001b[90m./\u001b[39m\u001b[90m\u001b[4mIn[54]:7\u001b[24m\u001b[39m\n",
      "checking parameters: \u001b[91m\u001b[1mError During Test\u001b[22m\u001b[39m at \u001b[39m\u001b[1mIn[54]:41\u001b[22m\n",
      "  Test threw exception\n",
      "  Expression: isapprox(my_estimated_parameters.u, parameters.u, atol = 0.0001)\n",
      "  type Nothing has no field u\n",
      "  Stacktrace:\n",
      "   [1] \u001b[0m\u001b[1mgetproperty\u001b[22m\u001b[0m\u001b[1m(\u001b[22m\u001b[90mx\u001b[39m::\u001b[0mNothing, \u001b[90mf\u001b[39m::\u001b[0mSymbol\u001b[0m\u001b[1m)\u001b[22m\n",
      "  \u001b[90m   @\u001b[39m \u001b[90mBase\u001b[39m \u001b[90m./\u001b[39m\u001b[90m\u001b[4mBase.jl:37\u001b[24m\u001b[39m\n",
      "   [2] \u001b[0m\u001b[1mmacro expansion\u001b[22m\n",
      "  \u001b[90m   @\u001b[39m \u001b[90m~/.julia/juliaup/julia-1.10.5+0.aarch64.apple.darwin14/share/julia/stdlib/v1.10/Test/src/\u001b[39m\u001b[90m\u001b[4mTest.jl:669\u001b[24m\u001b[39m\u001b[90m [inlined]\u001b[39m\n",
      "   [3] \u001b[0m\u001b[1mmacro expansion\u001b[22m\n",
      "  \u001b[90m   @\u001b[39m \u001b[90m./\u001b[39m\u001b[90m\u001b[4mIn[54]:41\u001b[24m\u001b[39m\u001b[90m [inlined]\u001b[39m\n",
      "   [4] \u001b[0m\u001b[1mmacro expansion\u001b[22m\n",
      "  \u001b[90m   @\u001b[39m \u001b[90m~/.julia/juliaup/julia-1.10.5+0.aarch64.apple.darwin14/share/julia/stdlib/v1.10/Test/src/\u001b[39m\u001b[90m\u001b[4mTest.jl:1577\u001b[24m\u001b[39m\u001b[90m [inlined]\u001b[39m\n",
      "   [5] \u001b[0m\u001b[1mmacro expansion\u001b[22m\n",
      "  \u001b[90m   @\u001b[39m \u001b[90m./\u001b[39m\u001b[90m\u001b[4mIn[54]:35\u001b[24m\u001b[39m\u001b[90m [inlined]\u001b[39m\n",
      "   [6] \u001b[0m\u001b[1mmacro expansion\u001b[22m\n",
      "  \u001b[90m   @\u001b[39m \u001b[90m~/.julia/juliaup/julia-1.10.5+0.aarch64.apple.darwin14/share/julia/stdlib/v1.10/Test/src/\u001b[39m\u001b[90m\u001b[4mTest.jl:1577\u001b[24m\u001b[39m\u001b[90m [inlined]\u001b[39m\n",
      "   [7] top-level scope\n",
      "  \u001b[90m   @\u001b[39m \u001b[90m./\u001b[39m\u001b[90m\u001b[4mIn[54]:7\u001b[24m\u001b[39m\n",
      "checking parameters: \u001b[91m\u001b[1mError During Test\u001b[22m\u001b[39m at \u001b[39m\u001b[1mIn[54]:42\u001b[22m\n",
      "  Test threw exception\n",
      "  Expression: isapprox(my_estimated_parameters.d, parameters.d, atol = 0.0001)\n",
      "  type Nothing has no field d\n",
      "  Stacktrace:\n",
      "   [1] \u001b[0m\u001b[1mgetproperty\u001b[22m\u001b[0m\u001b[1m(\u001b[22m\u001b[90mx\u001b[39m::\u001b[0mNothing, \u001b[90mf\u001b[39m::\u001b[0mSymbol\u001b[0m\u001b[1m)\u001b[22m\n",
      "  \u001b[90m   @\u001b[39m \u001b[90mBase\u001b[39m \u001b[90m./\u001b[39m\u001b[90m\u001b[4mBase.jl:37\u001b[24m\u001b[39m\n",
      "   [2] \u001b[0m\u001b[1mmacro expansion\u001b[22m\n",
      "  \u001b[90m   @\u001b[39m \u001b[90m~/.julia/juliaup/julia-1.10.5+0.aarch64.apple.darwin14/share/julia/stdlib/v1.10/Test/src/\u001b[39m\u001b[90m\u001b[4mTest.jl:669\u001b[24m\u001b[39m\u001b[90m [inlined]\u001b[39m\n",
      "   [3] \u001b[0m\u001b[1mmacro expansion\u001b[22m\n",
      "  \u001b[90m   @\u001b[39m \u001b[90m./\u001b[39m\u001b[90m\u001b[4mIn[54]:42\u001b[24m\u001b[39m\u001b[90m [inlined]\u001b[39m\n",
      "   [4] \u001b[0m\u001b[1mmacro expansion\u001b[22m\n",
      "  \u001b[90m   @\u001b[39m \u001b[90m~/.julia/juliaup/julia-1.10.5+0.aarch64.apple.darwin14/share/julia/stdlib/v1.10/Test/src/\u001b[39m\u001b[90m\u001b[4mTest.jl:1577\u001b[24m\u001b[39m\u001b[90m [inlined]\u001b[39m\n",
      "   [5] \u001b[0m\u001b[1mmacro expansion\u001b[22m\n",
      "  \u001b[90m   @\u001b[39m \u001b[90m./\u001b[39m\u001b[90m\u001b[4mIn[54]:35\u001b[24m\u001b[39m\u001b[90m [inlined]\u001b[39m\n",
      "   [6] \u001b[0m\u001b[1mmacro expansion\u001b[22m\n",
      "  \u001b[90m   @\u001b[39m \u001b[90m~/.julia/juliaup/julia-1.10.5+0.aarch64.apple.darwin14/share/julia/stdlib/v1.10/Test/src/\u001b[39m\u001b[90m\u001b[4mTest.jl:1577\u001b[24m\u001b[39m\u001b[90m [inlined]\u001b[39m\n",
      "   [7] top-level scope\n",
      "  \u001b[90m   @\u001b[39m \u001b[90m./\u001b[39m\u001b[90m\u001b[4mIn[54]:7\u001b[24m\u001b[39m\n",
      "checking lattice nodes: \u001b[91m\u001b[1mError During Test\u001b[22m\u001b[39m at \u001b[39m\u001b[1mIn[54]:45\u001b[22m\n",
      "  Got exception outside of a @test\n",
      "  type Nothing has no field levels\n",
      "  Stacktrace:\n",
      "    [1] \u001b[0m\u001b[1mgetproperty\u001b[22m\u001b[0m\u001b[1m(\u001b[22m\u001b[90mx\u001b[39m::\u001b[0mNothing, \u001b[90mf\u001b[39m::\u001b[0mSymbol\u001b[0m\u001b[1m)\u001b[22m\n",
      "  \u001b[90m    @\u001b[39m \u001b[90mBase\u001b[39m \u001b[90m./\u001b[39m\u001b[90m\u001b[4mBase.jl:37\u001b[24m\u001b[39m\n",
      "    [2] \u001b[0m\u001b[1mmacro expansion\u001b[22m\n",
      "  \u001b[90m    @\u001b[39m \u001b[90m./\u001b[39m\u001b[90m\u001b[4mIn[54]:50\u001b[24m\u001b[39m\u001b[90m [inlined]\u001b[39m\n",
      "    [3] \u001b[0m\u001b[1mmacro expansion\u001b[22m\n",
      "  \u001b[90m    @\u001b[39m \u001b[90m~/.julia/juliaup/julia-1.10.5+0.aarch64.apple.darwin14/share/julia/stdlib/v1.10/Test/src/\u001b[39m\u001b[90m\u001b[4mTest.jl:1577\u001b[24m\u001b[39m\u001b[90m [inlined]\u001b[39m\n",
      "    [4] \u001b[0m\u001b[1mmacro expansion\u001b[22m\n",
      "  \u001b[90m    @\u001b[39m \u001b[90m./\u001b[39m\u001b[90m\u001b[4mIn[54]:46\u001b[24m\u001b[39m\u001b[90m [inlined]\u001b[39m\n",
      "    [5] \u001b[0m\u001b[1mmacro expansion\u001b[22m\n",
      "  \u001b[90m    @\u001b[39m \u001b[90m~/.julia/juliaup/julia-1.10.5+0.aarch64.apple.darwin14/share/julia/stdlib/v1.10/Test/src/\u001b[39m\u001b[90m\u001b[4mTest.jl:1577\u001b[24m\u001b[39m\u001b[90m [inlined]\u001b[39m\n",
      "    [6] top-level scope\n",
      "  \u001b[90m    @\u001b[39m \u001b[90m./\u001b[39m\u001b[90m\u001b[4mIn[54]:7\u001b[24m\u001b[39m\n",
      "    [7] \u001b[0m\u001b[1meval\u001b[22m\n",
      "  \u001b[90m    @\u001b[39m \u001b[90m./\u001b[39m\u001b[90m\u001b[4mboot.jl:385\u001b[24m\u001b[39m\u001b[90m [inlined]\u001b[39m\n",
      "    [8] \u001b[0m\u001b[1minclude_string\u001b[22m\u001b[0m\u001b[1m(\u001b[22m\u001b[90mmapexpr\u001b[39m::\u001b[0mtypeof(REPL.softscope), \u001b[90mmod\u001b[39m::\u001b[0mModule, \u001b[90mcode\u001b[39m::\u001b[0mString, \u001b[90mfilename\u001b[39m::\u001b[0mString\u001b[0m\u001b[1m)\u001b[22m\n",
      "  \u001b[90m    @\u001b[39m \u001b[90mBase\u001b[39m \u001b[90m./\u001b[39m\u001b[90m\u001b[4mloading.jl:2076\u001b[24m\u001b[39m\n",
      "    [9] \u001b[0m\u001b[1msoftscope_include_string\u001b[22m\u001b[0m\u001b[1m(\u001b[22m\u001b[90mm\u001b[39m::\u001b[0mModule, \u001b[90mcode\u001b[39m::\u001b[0mString, \u001b[90mfilename\u001b[39m::\u001b[0mString\u001b[0m\u001b[1m)\u001b[22m\n",
      "  \u001b[90m    @\u001b[39m \u001b[32mSoftGlobalScope\u001b[39m \u001b[90m~/.julia/packages/SoftGlobalScope/u4UzH/src/\u001b[39m\u001b[90m\u001b[4mSoftGlobalScope.jl:65\u001b[24m\u001b[39m\n",
      "   [10] \u001b[0m\u001b[1mexecute_request\u001b[22m\u001b[0m\u001b[1m(\u001b[22m\u001b[90msocket\u001b[39m::\u001b[0mZMQ.Socket, \u001b[90mmsg\u001b[39m::\u001b[0mIJulia.Msg\u001b[0m\u001b[1m)\u001b[22m\n",
      "  \u001b[90m    @\u001b[39m \u001b[33mIJulia\u001b[39m \u001b[90m~/.julia/packages/IJulia/Vo51o/src/\u001b[39m\u001b[90m\u001b[4mexecute_request.jl:67\u001b[24m\u001b[39m\n",
      "   [11] \u001b[0m\u001b[1m#invokelatest#2\u001b[22m\n",
      "  \u001b[90m    @\u001b[39m \u001b[90m./\u001b[39m\u001b[90m\u001b[4messentials.jl:892\u001b[24m\u001b[39m\u001b[90m [inlined]\u001b[39m\n",
      "   [12] \u001b[0m\u001b[1minvokelatest\u001b[22m\n",
      "  \u001b[90m    @\u001b[39m \u001b[90m./\u001b[39m\u001b[90m\u001b[4messentials.jl:889\u001b[24m\u001b[39m\u001b[90m [inlined]\u001b[39m\n",
      "   [13] \u001b[0m\u001b[1meventloop\u001b[22m\u001b[0m\u001b[1m(\u001b[22m\u001b[90msocket\u001b[39m::\u001b[0mZMQ.Socket\u001b[0m\u001b[1m)\u001b[22m\n",
      "  \u001b[90m    @\u001b[39m \u001b[33mIJulia\u001b[39m \u001b[90m~/.julia/packages/IJulia/Vo51o/src/\u001b[39m\u001b[90m\u001b[4meventloop.jl:8\u001b[24m\u001b[39m\n",
      "   [14] \u001b[0m\u001b[1m(::IJulia.var\"#15#18\")\u001b[22m\u001b[0m\u001b[1m(\u001b[22m\u001b[0m\u001b[1m)\u001b[22m\n",
      "  \u001b[90m    @\u001b[39m \u001b[33mIJulia\u001b[39m \u001b[90m~/.julia/packages/IJulia/Vo51o/src/\u001b[39m\u001b[90m\u001b[4meventloop.jl:38\u001b[24m\u001b[39m\n",
      "check expectation and variance: \u001b[91m\u001b[1mError During Test\u001b[22m\u001b[39m at \u001b[39m\u001b[1mIn[54]:73\u001b[22m\n",
      "  Test threw exception\n",
      "  Expression: isapprox(my_expectation_array, expectation, atol = 0.001)\n",
      "  UndefVarError: `expectation` not defined\n",
      "  Stacktrace:\n",
      "   [1] \u001b[0m\u001b[1mmacro expansion\u001b[22m\n",
      "  \u001b[90m   @\u001b[39m \u001b[90m~/.julia/juliaup/julia-1.10.5+0.aarch64.apple.darwin14/share/julia/stdlib/v1.10/Test/src/\u001b[39m\u001b[90m\u001b[4mTest.jl:669\u001b[24m\u001b[39m\u001b[90m [inlined]\u001b[39m\n",
      "   [2] \u001b[0m\u001b[1mmacro expansion\u001b[22m\n",
      "  \u001b[90m   @\u001b[39m \u001b[90m./\u001b[39m\u001b[90m\u001b[4mIn[54]:73\u001b[24m\u001b[39m\u001b[90m [inlined]\u001b[39m\n",
      "   [3] \u001b[0m\u001b[1mmacro expansion\u001b[22m\n",
      "  \u001b[90m   @\u001b[39m \u001b[90m~/.julia/juliaup/julia-1.10.5+0.aarch64.apple.darwin14/share/julia/stdlib/v1.10/Test/src/\u001b[39m\u001b[90m\u001b[4mTest.jl:1577\u001b[24m\u001b[39m\u001b[90m [inlined]\u001b[39m\n",
      "   [4] \u001b[0m\u001b[1mmacro expansion\u001b[22m\n",
      "  \u001b[90m   @\u001b[39m \u001b[90m./\u001b[39m\u001b[90m\u001b[4mIn[54]:69\u001b[24m\u001b[39m\u001b[90m [inlined]\u001b[39m\n",
      "   [5] \u001b[0m\u001b[1mmacro expansion\u001b[22m\n",
      "  \u001b[90m   @\u001b[39m \u001b[90m~/.julia/juliaup/julia-1.10.5+0.aarch64.apple.darwin14/share/julia/stdlib/v1.10/Test/src/\u001b[39m\u001b[90m\u001b[4mTest.jl:1577\u001b[24m\u001b[39m\u001b[90m [inlined]\u001b[39m\n",
      "   [6] top-level scope\n",
      "  \u001b[90m   @\u001b[39m \u001b[90m./\u001b[39m\u001b[90m\u001b[4mIn[54]:7\u001b[24m\u001b[39m\n",
      "check expectation and variance: \u001b[91m\u001b[1mError During Test\u001b[22m\u001b[39m at \u001b[39m\u001b[1mIn[54]:74\u001b[22m\n",
      "  Test threw exception\n",
      "  Expression: isapprox(my_variance_array, variance, atol = 0.001)\n",
      "  UndefVarError: `variance` not defined\n",
      "  Stacktrace:\n",
      "   [1] \u001b[0m\u001b[1mmacro expansion\u001b[22m\n",
      "  \u001b[90m   @\u001b[39m \u001b[90m~/.julia/juliaup/julia-1.10.5+0.aarch64.apple.darwin14/share/julia/stdlib/v1.10/Test/src/\u001b[39m\u001b[90m\u001b[4mTest.jl:669\u001b[24m\u001b[39m\u001b[90m [inlined]\u001b[39m\n",
      "   [2] \u001b[0m\u001b[1mmacro expansion\u001b[22m\n",
      "  \u001b[90m   @\u001b[39m \u001b[90m./\u001b[39m\u001b[90m\u001b[4mIn[54]:74\u001b[24m\u001b[39m\u001b[90m [inlined]\u001b[39m\n",
      "   [3] \u001b[0m\u001b[1mmacro expansion\u001b[22m\n",
      "  \u001b[90m   @\u001b[39m \u001b[90m~/.julia/juliaup/julia-1.10.5+0.aarch64.apple.darwin14/share/julia/stdlib/v1.10/Test/src/\u001b[39m\u001b[90m\u001b[4mTest.jl:1577\u001b[24m\u001b[39m\u001b[90m [inlined]\u001b[39m\n",
      "   [4] \u001b[0m\u001b[1mmacro expansion\u001b[22m\n",
      "  \u001b[90m   @\u001b[39m \u001b[90m./\u001b[39m\u001b[90m\u001b[4mIn[54]:69\u001b[24m\u001b[39m\u001b[90m [inlined]\u001b[39m\n",
      "   [5] \u001b[0m\u001b[1mmacro expansion\u001b[22m\n",
      "  \u001b[90m   @\u001b[39m \u001b[90m~/.julia/juliaup/julia-1.10.5+0.aarch64.apple.darwin14/share/julia/stdlib/v1.10/Test/src/\u001b[39m\u001b[90m\u001b[4mTest.jl:1577\u001b[24m\u001b[39m\u001b[90m [inlined]\u001b[39m\n",
      "   [6] top-level scope\n",
      "  \u001b[90m   @\u001b[39m \u001b[90m./\u001b[39m\u001b[90m\u001b[4mIn[54]:7\u001b[24m\u001b[39m\n",
      "check expectation and variance: \u001b[91m\u001b[1mTest Failed\u001b[22m\u001b[39m at \u001b[39m\u001b[1mIn[54]:75\u001b[22m\n",
      "  Expression: bool_flag == does_simulation_pass_simple_test\n",
      "   Evaluated: true == nothing\n",
      "\n",
      "Stacktrace:\n",
      "  [1] \u001b[0m\u001b[1mmacro expansion\u001b[22m\n",
      "\u001b[90m    @\u001b[39m \u001b[90m~/.julia/juliaup/julia-1.10.5+0.aarch64.apple.darwin14/share/julia/stdlib/v1.10/Test/src/\u001b[39m\u001b[90m\u001b[4mTest.jl:672\u001b[24m\u001b[39m\u001b[90m [inlined]\u001b[39m\n",
      "  [2] \u001b[0m\u001b[1mmacro expansion\u001b[22m\n",
      "\u001b[90m    @\u001b[39m \u001b[90m./\u001b[39m\u001b[90m\u001b[4mIn[54]:75\u001b[24m\u001b[39m\u001b[90m [inlined]\u001b[39m\n",
      "  [3] \u001b[0m\u001b[1mmacro expansion\u001b[22m\n",
      "\u001b[90m    @\u001b[39m \u001b[90m~/.julia/juliaup/julia-1.10.5+0.aarch64.apple.darwin14/share/julia/stdlib/v1.10/Test/src/\u001b[39m\u001b[90m\u001b[4mTest.jl:1577\u001b[24m\u001b[39m\u001b[90m [inlined]\u001b[39m\n",
      "  [4] \u001b[0m\u001b[1mmacro expansion\u001b[22m\n",
      "\u001b[90m    @\u001b[39m \u001b[90m./\u001b[39m\u001b[90m\u001b[4mIn[54]:69\u001b[24m\u001b[39m\u001b[90m [inlined]\u001b[39m\n",
      "  [5] \u001b[0m\u001b[1mmacro expansion\u001b[22m\n",
      "\u001b[90m    @\u001b[39m \u001b[90m~/.julia/juliaup/julia-1.10.5+0.aarch64.apple.darwin14/share/julia/stdlib/v1.10/Test/src/\u001b[39m\u001b[90m\u001b[4mTest.jl:1577\u001b[24m\u001b[39m\u001b[90m [inlined]\u001b[39m\n",
      "  [6] top-level scope\n",
      "\u001b[90m    @\u001b[39m \u001b[90m./\u001b[39m\u001b[90m\u001b[4mIn[54]:7\u001b[24m\u001b[39m\n",
      "  [7] \u001b[0m\u001b[1meval\u001b[22m\n",
      "\u001b[90m    @\u001b[39m \u001b[90m./\u001b[39m\u001b[90m\u001b[4mboot.jl:385\u001b[24m\u001b[39m\u001b[90m [inlined]\u001b[39m\n",
      "  [8] \u001b[0m\u001b[1minclude_string\u001b[22m\u001b[0m\u001b[1m(\u001b[22m\u001b[90mmapexpr\u001b[39m::\u001b[0mtypeof(REPL.softscope), \u001b[90mmod\u001b[39m::\u001b[0mModule, \u001b[90mcode\u001b[39m::\u001b[0mString, \u001b[90mfilename\u001b[39m::\u001b[0mString\u001b[0m\u001b[1m)\u001b[22m\n",
      "\u001b[90m    @\u001b[39m \u001b[90mBase\u001b[39m \u001b[90m./\u001b[39m\u001b[90m\u001b[4mloading.jl:2076\u001b[24m\u001b[39m\n",
      "  [9] \u001b[0m\u001b[1msoftscope_include_string\u001b[22m\u001b[0m\u001b[1m(\u001b[22m\u001b[90mm\u001b[39m::\u001b[0mModule, \u001b[90mcode\u001b[39m::\u001b[0mString, \u001b[90mfilename\u001b[39m::\u001b[0mString\u001b[0m\u001b[1m)\u001b[22m\n",
      "\u001b[90m    @\u001b[39m \u001b[32mSoftGlobalScope\u001b[39m \u001b[90m~/.julia/packages/SoftGlobalScope/u4UzH/src/\u001b[39m\u001b[90m\u001b[4mSoftGlobalScope.jl:65\u001b[24m\u001b[39m\n",
      " [10] \u001b[0m\u001b[1mexecute_request\u001b[22m\u001b[0m\u001b[1m(\u001b[22m\u001b[90msocket\u001b[39m::\u001b[0mZMQ.Socket, \u001b[90mmsg\u001b[39m::\u001b[0mIJulia.Msg\u001b[0m\u001b[1m)\u001b[22m\n",
      "\u001b[90m    @\u001b[39m \u001b[33mIJulia\u001b[39m \u001b[90m~/.julia/packages/IJulia/Vo51o/src/\u001b[39m\u001b[90m\u001b[4mexecute_request.jl:67\u001b[24m\u001b[39m\n",
      " [11] \u001b[0m\u001b[1m#invokelatest#2\u001b[22m\n",
      "\u001b[90m    @\u001b[39m \u001b[90m./\u001b[39m\u001b[90m\u001b[4messentials.jl:892\u001b[24m\u001b[39m\u001b[90m [inlined]\u001b[39m\n",
      " [12] \u001b[0m\u001b[1minvokelatest\u001b[22m\n",
      "\u001b[90m    @\u001b[39m \u001b[90m./\u001b[39m\u001b[90m\u001b[4messentials.jl:889\u001b[24m\u001b[39m\u001b[90m [inlined]\u001b[39m\n",
      " [13] \u001b[0m\u001b[1meventloop\u001b[22m\u001b[0m\u001b[1m(\u001b[22m\u001b[90msocket\u001b[39m::\u001b[0mZMQ.Socket\u001b[0m\u001b[1m)\u001b[22m\n",
      "\u001b[90m    @\u001b[39m \u001b[33mIJulia\u001b[39m \u001b[90m~/.julia/packages/IJulia/Vo51o/src/\u001b[39m\u001b[90m\u001b[4meventloop.jl:8\u001b[24m\u001b[39m\n",
      " [14] \u001b[0m\u001b[1m(::IJulia.var\"#15#18\")\u001b[22m\u001b[0m\u001b[1m(\u001b[22m\u001b[0m\u001b[1m)\u001b[22m\n",
      "\u001b[90m    @\u001b[39m \u001b[33mIJulia\u001b[39m \u001b[90m~/.julia/packages/IJulia/Vo51o/src/\u001b[39m\u001b[90m\u001b[4meventloop.jl:38\u001b[24m\u001b[39m\n",
      "\u001b[0m\u001b[1mTest Summary:                    | \u001b[22m\u001b[32m\u001b[1mPass  \u001b[22m\u001b[39m\u001b[91m\u001b[1mFail  \u001b[22m\u001b[39m\u001b[91m\u001b[1mError  \u001b[22m\u001b[39m\u001b[36m\u001b[1mTotal  \u001b[22m\u001b[39m\u001b[0m\u001b[1mTime\u001b[22m\n",
      "PS2 Test Suite                   | \u001b[32m   3  \u001b[39m\u001b[91m   4  \u001b[39m\u001b[91m   10  \u001b[39m\u001b[36m   17  \u001b[39m\u001b[0m1.0s\n",
      "  checking problem setup         | \u001b[32m   2  \u001b[39m\u001b[91m   3  \u001b[39m\u001b[91m    1  \u001b[39m\u001b[36m    6  \u001b[39m\u001b[0m0.8s\n",
      "  check log growth array         |             \u001b[91m    1  \u001b[39m\u001b[36m    1  \u001b[39m\u001b[0m0.1s\n",
      "  checking parameters            | \u001b[32m   1  \u001b[39m      \u001b[91m    5  \u001b[39m\u001b[36m    6  \u001b[39m\u001b[0m0.0s\n",
      "  checking lattice nodes         |             \u001b[91m    1  \u001b[39m\u001b[36m    1  \u001b[39m\u001b[0m0.0s\n",
      "  check expectation and variance |       \u001b[91m   1  \u001b[39m\u001b[91m    2  \u001b[39m\u001b[36m    3  \u001b[39m\u001b[0m0.0s\n"
     ]
    },
    {
     "ename": "LoadError",
     "evalue": "\u001b[91mSome tests did not pass: 3 passed, 4 failed, 10 errored, 0 broken.\u001b[39m",
     "output_type": "error",
     "traceback": [
      "\u001b[91mSome tests did not pass: 3 passed, 4 failed, 10 errored, 0 broken.\u001b[39m",
      "",
      "Stacktrace:",
      " [1] finish(ts::Test.DefaultTestSet; print_results::Bool)",
      "   @ Test ~/.julia/juliaup/julia-1.10.5+0.aarch64.apple.darwin14/share/julia/stdlib/v1.10/Test/src/Test.jl:1195",
      " [2] finish",
      "   @ ~/.julia/juliaup/julia-1.10.5+0.aarch64.apple.darwin14/share/julia/stdlib/v1.10/Test/src/Test.jl:1170 [inlined]",
      " [3] macro expansion",
      "   @ ~/.julia/juliaup/julia-1.10.5+0.aarch64.apple.darwin14/share/julia/stdlib/v1.10/Test/src/Test.jl:1593 [inlined]",
      " [4] top-level scope",
      "   @ ./In[54]:7"
     ]
    }
   ],
   "source": [
    "let\n",
    "    # load teaching team solution data -\n",
    "    saved_solution_dict = joinpath(_PATH_TO_SOLN,\"PS2-TeachingTeam-Solution-CHEME-5660-Fall-2024.jld2\") |> load;\n",
    "\n",
    "    @testset verbose = true \"PS2 Test Suite\" begin\n",
    "\n",
    "        @testset \"checking problem setup\" begin\n",
    "            hsoln = saved_solution_dict[\"h\"];\n",
    "            tstartsoln = saved_solution_dict[\"random_start_index\"];\n",
    "            initialpricesoln = saved_solution_dict[\"Sₒ\"];\n",
    "            width = saved_solution_dict[\"ϵ\"];\n",
    "            timestep = saved_solution_dict[\"Δt\"];\n",
    "            tickersoln = saved_solution_dict[\"ticker_to_analyze\"];\n",
    "\n",
    "            @test hsoln == h\n",
    "            @test tstartsoln == random_start_index\n",
    "            @test initialpricesoln == Sₒ\n",
    "            @test width == ϵ\n",
    "            @test timestep == Δt\n",
    "            @test tickersoln == ticker_to_analyze\n",
    "        end\n",
    "\n",
    "        @testset \"check log growth array\" begin\n",
    "            my_growth_array = saved_solution_dict[\"log_growth_array\"];\n",
    "            (my_number_of_rows, my_number_of_cols) = size(my_growth_array);\n",
    "            (number_of_rows, number_of_cols) = size(log_growth_array);\n",
    "\n",
    "            @test typeof(log_growth_array) == Array{Float64,2}\n",
    "            @test number_of_rows == my_number_of_rows\n",
    "            @test number_of_cols == my_number_of_cols\n",
    "            @test isapprox(my_growth_array, log_growth_array, atol=1e-4)\n",
    "        end\n",
    "        \n",
    "        @testset \"checking parameters\" begin\n",
    "            my_estimated_parameters = saved_solution_dict[\"parameters\"];\n",
    "\n",
    "            @test typeof(my_estimated_parameters) == MyRealWorldTrinomialSharePriceTreeParameters\n",
    "            @test isapprox(my_estimated_parameters.p, parameters.p, atol=1e-4)\n",
    "            @test isapprox(my_estimated_parameters.p̄, parameters.p̄, atol=1e-4)\n",
    "            @test isapprox(my_estimated_parameters.q, parameters.q, atol=1e-4)\n",
    "            @test isapprox(my_estimated_parameters.u, parameters.u, atol=1e-4)\n",
    "            @test isapprox(my_estimated_parameters.d, parameters.d, atol=1e-4)\n",
    "        end\n",
    "\n",
    "        @testset \"checking lattice nodes\" begin\n",
    "            leaflevel = saved_solution_dict[\"leaflevel\"];\n",
    "            my_leaf_nodes = saved_solution_dict[\"leaves\"];\n",
    "\n",
    "            computed_leaf_array = Array{MyTrinomialLatticeNodeModel,1}();\n",
    "            nodeid = latticemodel.levels[leaflevel];\n",
    "            for i ∈ nodeid\n",
    "                node = latticemodel.data[i];\n",
    "                push!(computed_leaf_array, node);\n",
    "            end\n",
    "\n",
    "            @test typeof(latticemodel) == MyAdjacencyBasedTrinomialSharePriceTreeModel\n",
    "            @test typeof(computed_leaf_array[1]) == MyTrinomialLatticeNodeModel\n",
    "            @test length(computed_leaf_array) == length(my_leaf_nodes)\n",
    "            @test isapprox(computed_leaf_array[1].price, my_leaf_nodes[1].price)\n",
    "            @test isapprox(computed_leaf_array[end].price, my_leaf_nodes[end].price)\n",
    "            @test isapprox(computed_leaf_array[1].probability, my_leaf_nodes[1].probability)\n",
    "            @test isapprox(computed_leaf_array[end].probability, my_leaf_nodes[end].probability)\n",
    "            @test computed_leaf_array[1].path == my_leaf_nodes[1].path\n",
    "            @test computed_leaf_array[end].path == my_leaf_nodes[end].path\n",
    "            \n",
    "        end\n",
    "\n",
    "        @testset \"check expectation and variance\" begin\n",
    "            my_expectation_array = saved_solution_dict[\"expectation\"];\n",
    "            my_variance_array = saved_solution_dict[\"variance\"];\n",
    "            bool_flag = saved_solution_dict[\"does_simulation_pass_simple_test\"];\n",
    "\n",
    "            @test isapprox(my_expectation_array, expectation, atol=1e-3)\n",
    "            @test isapprox(my_variance_array, variance, atol=1e-3)\n",
    "            @test bool_flag == does_simulation_pass_simple_test;\n",
    "        end\n",
    "    \n",
    "    end\n",
    "    \n",
    "end;"
   ]
  },
  {
   "cell_type": "markdown",
   "id": "c5a0ca8e-9e9a-4cf8-85fc-fea49acd5fe6",
   "metadata": {},
   "source": [
    "## Disclaimer and Risks\n",
    "__This content is offered solely for training and informational purposes__. No offer or solicitation to buy or sell securities or derivative products or any investment or trading advice or strategy is made, given, or endorsed by the teaching team. \n",
    "\n",
    "__Trading involves risk__. Carefully review your financial situation before investing in securities, futures contracts, options, or commodity interests. Past performance, whether actual or indicated by historical tests of strategies, is no guarantee of future performance or success. Trading is generally inappropriate for someone with limited resources, investment or trading experience, or a low-risk tolerance.  Only risk capital that is not required for living expenses.\n",
    "\n",
    "__You are fully responsible for any investment or trading decisions you make__. Such decisions should be based solely on evaluating your financial circumstances, investment or trading objectives, risk tolerance, and liquidity needs."
   ]
  }
 ],
 "metadata": {
  "kernelspec": {
   "display_name": "Julia 1.10.5",
   "language": "julia",
   "name": "julia-1.10"
  },
  "language_info": {
   "file_extension": ".jl",
   "mimetype": "application/julia",
   "name": "julia",
   "version": "1.10.5"
  }
 },
 "nbformat": 4,
 "nbformat_minor": 5
}
