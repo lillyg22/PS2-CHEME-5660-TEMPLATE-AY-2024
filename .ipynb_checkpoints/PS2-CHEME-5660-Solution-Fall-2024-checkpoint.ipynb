{
 "cells": [
  {
   "cell_type": "markdown",
   "id": "2612ebc5-0ad0-4600-9ea0-0800929b02e2",
   "metadata": {},
   "source": [
    "# PS2: Future Share Price Prediction using a Trinomial Lattice Model\n",
    "Fill me in"
   ]
  },
  {
   "cell_type": "markdown",
   "id": "08756963-d464-4a32-8ce8-a4db7cce42bf",
   "metadata": {},
   "source": [
    "## Setup\n",
    "Set up the computational environment using [the `Include.jl` file](Include.jl). The [`Include.jl` file](Include.jl) loads external packages, various functions we will use in the exercise, and custom types to model the components of our example problem.\n",
    "* For additional information on functions and types used in this material, see the [Julia programming language documentation](https://docs.julialang.org/en/v1/). This problem set __does not depend__ upon [the VLQuantitativeFinancePackage.jl package](https://github.com/varnerlab/VLQuantitativeFinancePackage.jl)."
   ]
  },
  {
   "cell_type": "code",
   "execution_count": 3,
   "id": "72821197-3a9b-4103-bbaa-cc92ceea1795",
   "metadata": {},
   "outputs": [],
   "source": [
    "include(\"Include.jl\");"
   ]
  },
  {
   "cell_type": "markdown",
   "id": "9fe64e23-f36d-45cf-b0ee-e801a9f82536",
   "metadata": {},
   "source": [
    "## Prerequisites: Load and clean the historical dataset\n",
    "We gathered a daily open-high-low-close `dataset` for each firm in the [S&P500](https://en.wikipedia.org/wiki/S%26P_500) from `01-03-2018` until `12-29-2023`, along with data for a few exchange-traded funds and volatility products during that time. We load the `orignal_training_dataset` by calling [the `MyTrainingMarketPriceDataSet()` function](src/Files.jl):"
   ]
  },
  {
   "cell_type": "code",
   "execution_count": 5,
   "id": "a59546e7-4866-4a52-a459-72b4c7da15cf",
   "metadata": {},
   "outputs": [],
   "source": [
    "original_training_dataset = MyTrainingMarketPriceDataSet() |> x-> x[\"dataset\"];"
   ]
  },
  {
   "cell_type": "markdown",
   "id": "a41e47d6-cf04-4f7e-9e87-4c1bfa59c464",
   "metadata": {},
   "source": [
    "### Clean the data\n",
    "Not all tickers in our dataset have the maximum number of trading days for various reasons, e.g., acquisition or de-listing events. Let's collect only those tickers with the maximum number of trading days.\n",
    "\n",
    "* First, let's compute the number of records for a company that we know has a maximum value, e.g., `AAPL`, and save that value in the `maximum_number_trading_days` variable:"
   ]
  },
  {
   "cell_type": "code",
   "execution_count": 7,
   "id": "e8edc6e5-9d5a-4ac4-84a1-d2e5b58dacfa",
   "metadata": {},
   "outputs": [],
   "source": [
    "maximum_number_trading_days = original_training_dataset[\"AAPL\"] |> nrow;"
   ]
  },
  {
   "cell_type": "markdown",
   "id": "1ab0c99f-3470-492c-b9c9-c1cf761ff79b",
   "metadata": {},
   "source": [
    "Now, let's iterate through our data and collect only tickers with `maximum_number_trading_days` records. Save that data in the `training)dataset::Dict{String,DataFrame}` variable:"
   ]
  },
  {
   "cell_type": "code",
   "execution_count": 9,
   "id": "c83192b0-4247-4192-9124-7c1470680cc7",
   "metadata": {},
   "outputs": [
    {
     "data": {
      "text/plain": [
       "Dict{String, DataFrame} with 460 entries:\n",
       "  \"NI\"   => \u001b[1m1508×8 DataFrame\u001b[0m\u001b[0m…\n",
       "  \"EMR\"  => \u001b[1m1508×8 DataFrame\u001b[0m\u001b[0m…\n",
       "  \"CTAS\" => \u001b[1m1508×8 DataFrame\u001b[0m\u001b[0m…\n",
       "  \"HSIC\" => \u001b[1m1508×8 DataFrame\u001b[0m\u001b[0m…\n",
       "  \"KIM\"  => \u001b[1m1508×8 DataFrame\u001b[0m\u001b[0m…\n",
       "  \"PLD\"  => \u001b[1m1508×8 DataFrame\u001b[0m\u001b[0m…\n",
       "  \"IEX\"  => \u001b[1m1508×8 DataFrame\u001b[0m\u001b[0m…\n",
       "  \"BAC\"  => \u001b[1m1508×8 DataFrame\u001b[0m\u001b[0m…\n",
       "  \"CBOE\" => \u001b[1m1508×8 DataFrame\u001b[0m\u001b[0m…\n",
       "  \"EXR\"  => \u001b[1m1508×8 DataFrame\u001b[0m\u001b[0m…\n",
       "  \"NCLH\" => \u001b[1m1508×8 DataFrame\u001b[0m\u001b[0m…\n",
       "  \"CVS\"  => \u001b[1m1508×8 DataFrame\u001b[0m\u001b[0m…\n",
       "  \"DRI\"  => \u001b[1m1508×8 DataFrame\u001b[0m\u001b[0m…\n",
       "  \"DTE\"  => \u001b[1m1508×8 DataFrame\u001b[0m\u001b[0m…\n",
       "  \"ZION\" => \u001b[1m1508×8 DataFrame\u001b[0m\u001b[0m…\n",
       "  \"AVY\"  => \u001b[1m1508×8 DataFrame\u001b[0m\u001b[0m…\n",
       "  \"EW\"   => \u001b[1m1508×8 DataFrame\u001b[0m\u001b[0m…\n",
       "  \"EA\"   => \u001b[1m1508×8 DataFrame\u001b[0m\u001b[0m…\n",
       "  \"NWSA\" => \u001b[1m1508×8 DataFrame\u001b[0m\u001b[0m…\n",
       "  \"CAG\"  => \u001b[1m1508×8 DataFrame\u001b[0m\u001b[0m…\n",
       "  \"GPC\"  => \u001b[1m1508×8 DataFrame\u001b[0m\u001b[0m…\n",
       "  \"FCX\"  => \u001b[1m1508×8 DataFrame\u001b[0m\u001b[0m…\n",
       "  \"GILD\" => \u001b[1m1508×8 DataFrame\u001b[0m\u001b[0m…\n",
       "  \"UNP\"  => \u001b[1m1508×8 DataFrame\u001b[0m\u001b[0m…\n",
       "  \"CDW\"  => \u001b[1m1508×8 DataFrame\u001b[0m\u001b[0m…\n",
       "  ⋮      => ⋮"
      ]
     },
     "execution_count": 9,
     "metadata": {},
     "output_type": "execute_result"
    }
   ],
   "source": [
    "training_dataset = Dict{String,DataFrame}();\n",
    "for (ticker,data) ∈ original_training_dataset\n",
    "    if (nrow(data) == maximum_number_trading_days)\n",
    "        training_dataset[ticker] = data;\n",
    "    end\n",
    "end\n",
    "training_dataset"
   ]
  },
  {
   "cell_type": "markdown",
   "id": "243a97e7-d2b4-4b21-ad01-92959554b2a5",
   "metadata": {},
   "source": [
    "Next, let's get a list of firms that we have in cleaned up `training_dataset` and save it in the `list_of_all_tickers` array"
   ]
  },
  {
   "cell_type": "code",
   "execution_count": 11,
   "id": "cc5f046a-235c-48f5-aee0-98485383f6ac",
   "metadata": {},
   "outputs": [],
   "source": [
    "list_of_all_tickers = keys(training_dataset) |> collect |> sort;"
   ]
  },
  {
   "cell_type": "markdown",
   "id": "4e2d0777-d7fc-4620-b614-8cfa37efd52e",
   "metadata": {},
   "source": [
    "Finally, set some constants"
   ]
  },
  {
   "cell_type": "code",
   "execution_count": 13,
   "id": "e57397f9-2257-46e2-be3a-c818c08d898d",
   "metadata": {},
   "outputs": [],
   "source": [
    "Δt = (1/252);"
   ]
  },
  {
   "cell_type": "markdown",
   "id": "caac3475-77eb-4f9f-a480-f1647c3e148c",
   "metadata": {},
   "source": [
    "## Task 1: Estimate the real-world lattice parameters from data\n",
    "Fill me in."
   ]
  },
  {
   "cell_type": "code",
   "execution_count": 15,
   "id": "4c13ca0b-0228-4b5b-912b-7c75ec8b308e",
   "metadata": {},
   "outputs": [],
   "source": [
    "log_growth_array = log_growth_matrix(training_dataset,  list_of_all_tickers, Δt = Δt);"
   ]
  },
  {
   "cell_type": "markdown",
   "id": "61727cf6-8c21-4c16-b7e1-40b93ea5f271",
   "metadata": {},
   "source": [
    "Fill me in"
   ]
  },
  {
   "cell_type": "code",
   "execution_count": 17,
   "id": "5e151d21-3d16-4cda-9f6d-5090890f061a",
   "metadata": {},
   "outputs": [],
   "source": [
    "ticker_to_analyze = \"SPY\";"
   ]
  },
  {
   "cell_type": "markdown",
   "id": "19bfdcf0-846e-4dbc-89e2-5135f2581272",
   "metadata": {},
   "source": [
    "Fill me in"
   ]
  },
  {
   "cell_type": "code",
   "execution_count": 19,
   "id": "9fe70774-aa87-44e8-8de1-76ec926f8d24",
   "metadata": {},
   "outputs": [
    {
     "data": {
      "text/plain": [
       "MyRealWorldTernarySharePriceTreeParameters(0.5428002654280026, 0.42866622428666223, 0.028533510285335104, 1.0068122600524767, 0.992366459291719, 0.05, 0.003968253968253968)"
      ]
     },
     "execution_count": 19,
     "metadata": {},
     "output_type": "execute_result"
    }
   ],
   "source": [
    "i = findfirst(ticker -> ticker == ticker_to_analyze, list_of_all_tickers);\n",
    "parameters = (RealWorldTernaryProbabilityMeasure())(log_growth_array[:,i], ϵ = 0.05)"
   ]
  },
  {
   "cell_type": "markdown",
   "id": "adace206-0366-4094-b82d-212d3ed266ff",
   "metadata": {},
   "source": [
    "### Check: Do the estimated probabilities sum to `1`?\n",
    "Fill me in"
   ]
  },
  {
   "cell_type": "code",
   "execution_count": 21,
   "id": "ecc1fbec-aaa6-4d6a-acf5-9e1daf473cbe",
   "metadata": {},
   "outputs": [],
   "source": [
    "let \n",
    "    p = parameters.p;\n",
    "    p̄ = parameters.p̄\n",
    "    q = parameters.q;\n",
    "\n",
    "    @assert (p + p̄ + q) == 1\n",
    "end"
   ]
  },
  {
   "cell_type": "markdown",
   "id": "cb99ceee-e890-4eef-99c3-3668a84a92dd",
   "metadata": {},
   "source": [
    "## Task 2: Build a trinomial lattice model\n",
    "Fill me in"
   ]
  },
  {
   "cell_type": "code",
   "execution_count": 47,
   "id": "c2a3e2e0-8f5e-4d13-8279-173004ae583c",
   "metadata": {},
   "outputs": [],
   "source": [
    "h = 5; # will give h + 1 levels because we are zero-based\n",
    "Sₒ = 1.0;"
   ]
  },
  {
   "cell_type": "markdown",
   "id": "dbb41954-af19-4b39-98c8-6fc6b366cc47",
   "metadata": {},
   "source": [
    "Fill me in"
   ]
  },
  {
   "cell_type": "code",
   "execution_count": 49,
   "id": "0bfa1a75-fc8a-4096-a3d6-412f4b424068",
   "metadata": {},
   "outputs": [
    {
     "ename": "LoadError",
     "evalue": "InterruptException:",
     "output_type": "error",
     "traceback": [
      "InterruptException:",
      "",
      "Stacktrace:",
      " [1] Array",
      "   @ ./boot.jl:477 [inlined]",
      " [2] rehash!(h::Dict{Int64, Vector{Int64}}, newsz::Int64)",
      "   @ Base ./dict.jl:184",
      " [3] _setindex!",
      "   @ ./dict.jl:358 [inlined]",
      " [4] setindex!(h::Dict{Int64, Vector{Int64}}, v0::Vector{Int64}, key::Int64)",
      "   @ Base ./dict.jl:384",
      " [5] populate(model::MyAdjacencyBasedTernarySharePriceTree; Sₒ::Float64, h::Int64)",
      "   @ Main ~/Desktop/julia_work/PS2-CHEME-5660-TEMPLATE-AY-2024/src/Compute.jl:207",
      " [6] (::var\"#28#29\")(model::MyAdjacencyBasedTernarySharePriceTree)",
      "   @ Main ./In[49]:1",
      " [7] |>(x::MyAdjacencyBasedTernarySharePriceTree, f::var\"#28#29\")",
      "   @ Base ./operators.jl:917"
     ]
    }
   ],
   "source": [
    "latticemodel = build(MyAdjacencyBasedTernarySharePriceTree, parameters) |> model -> populate(model, Sₒ = Sₒ, h = h)"
   ]
  },
  {
   "cell_type": "code",
   "execution_count": null,
   "id": "741fea01-e1a2-4c1b-a4a2-04c70c4c673a",
   "metadata": {},
   "outputs": [],
   "source": []
  }
 ],
 "metadata": {
  "kernelspec": {
   "display_name": "Julia 1.10.5",
   "language": "julia",
   "name": "julia-1.10"
  },
  "language_info": {
   "file_extension": ".jl",
   "mimetype": "application/julia",
   "name": "julia",
   "version": "1.10.5"
  }
 },
 "nbformat": 4,
 "nbformat_minor": 5
}
