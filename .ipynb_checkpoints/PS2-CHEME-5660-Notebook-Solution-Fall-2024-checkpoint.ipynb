{
 "cells": [
  {
   "cell_type": "markdown",
   "id": "2612ebc5-0ad0-4600-9ea0-0800929b02e2",
   "metadata": {},
   "source": [
    "# PS2: Future Share Price Prediction using a Trinomial Lattice Model\n",
    "Fill me in"
   ]
  },
  {
   "cell_type": "markdown",
   "id": "08756963-d464-4a32-8ce8-a4db7cce42bf",
   "metadata": {},
   "source": [
    "## Setup\n",
    "Set up the computational environment using [the `Include.jl` file](Include.jl). The [`Include.jl` file](Include.jl) loads external packages, various functions we will use in the exercise, and custom types to model the components of our example problem.\n",
    "* For additional information on functions and types used in this material, see the [Julia programming language documentation](https://docs.julialang.org/en/v1/). This problem set __does not depend__ upon [the VLQuantitativeFinancePackage.jl package](https://github.com/varnerlab/VLQuantitativeFinancePackage.jl)."
   ]
  },
  {
   "cell_type": "code",
   "execution_count": 3,
   "id": "72821197-3a9b-4103-bbaa-cc92ceea1795",
   "metadata": {},
   "outputs": [],
   "source": [
    "include(\"Include.jl\");"
   ]
  },
  {
   "cell_type": "markdown",
   "id": "9fe64e23-f36d-45cf-b0ee-e801a9f82536",
   "metadata": {},
   "source": [
    "## Prerequisites: Load and clean the historical dataset\n",
    "We gathered a daily open-high-low-close `dataset` for each firm in the [S&P500](https://en.wikipedia.org/wiki/S%26P_500) from `01-03-2018` until `12-29-2023`, along with data for a few exchange-traded funds and volatility products during that time. We load the `orignal_training_dataset` by calling [the `MyTrainingMarketPriceDataSet()` function](src/Files.jl):"
   ]
  },
  {
   "cell_type": "code",
   "execution_count": 5,
   "id": "a59546e7-4866-4a52-a459-72b4c7da15cf",
   "metadata": {},
   "outputs": [],
   "source": [
    "original_training_dataset = MyTrainingMarketPriceDataSet() |> x-> x[\"dataset\"];"
   ]
  },
  {
   "cell_type": "markdown",
   "id": "a41e47d6-cf04-4f7e-9e87-4c1bfa59c464",
   "metadata": {},
   "source": [
    "### Clean the data\n",
    "Not all tickers in our dataset have the maximum number of trading days for various reasons, e.g., acquisition or de-listing events. Let's collect only those tickers with the maximum number of trading days.\n",
    "\n",
    "* First, let's compute the number of records for a company that we know has a maximum value, e.g., `AAPL`, and save that value in the `maximum_number_trading_days` variable:"
   ]
  },
  {
   "cell_type": "code",
   "execution_count": 7,
   "id": "e8edc6e5-9d5a-4ac4-84a1-d2e5b58dacfa",
   "metadata": {},
   "outputs": [],
   "source": [
    "maximum_number_trading_days = original_training_dataset[\"AAPL\"] |> nrow;"
   ]
  },
  {
   "cell_type": "markdown",
   "id": "1ab0c99f-3470-492c-b9c9-c1cf761ff79b",
   "metadata": {},
   "source": [
    "Now, let's iterate through our data and collect only tickers with `maximum_number_trading_days` records. Save that data in the `training)dataset::Dict{String,DataFrame}` variable:"
   ]
  },
  {
   "cell_type": "code",
   "execution_count": 9,
   "id": "c83192b0-4247-4192-9124-7c1470680cc7",
   "metadata": {},
   "outputs": [
    {
     "data": {
      "text/plain": [
       "Dict{String, DataFrame} with 460 entries:\n",
       "  \"NI\"   => \u001b[1m1508×8 DataFrame\u001b[0m\u001b[0m…\n",
       "  \"EMR\"  => \u001b[1m1508×8 DataFrame\u001b[0m\u001b[0m…\n",
       "  \"CTAS\" => \u001b[1m1508×8 DataFrame\u001b[0m\u001b[0m…\n",
       "  \"HSIC\" => \u001b[1m1508×8 DataFrame\u001b[0m\u001b[0m…\n",
       "  \"KIM\"  => \u001b[1m1508×8 DataFrame\u001b[0m\u001b[0m…\n",
       "  \"PLD\"  => \u001b[1m1508×8 DataFrame\u001b[0m\u001b[0m…\n",
       "  \"IEX\"  => \u001b[1m1508×8 DataFrame\u001b[0m\u001b[0m…\n",
       "  \"BAC\"  => \u001b[1m1508×8 DataFrame\u001b[0m\u001b[0m…\n",
       "  \"CBOE\" => \u001b[1m1508×8 DataFrame\u001b[0m\u001b[0m…\n",
       "  \"EXR\"  => \u001b[1m1508×8 DataFrame\u001b[0m\u001b[0m…\n",
       "  \"NCLH\" => \u001b[1m1508×8 DataFrame\u001b[0m\u001b[0m…\n",
       "  \"CVS\"  => \u001b[1m1508×8 DataFrame\u001b[0m\u001b[0m…\n",
       "  \"DRI\"  => \u001b[1m1508×8 DataFrame\u001b[0m\u001b[0m…\n",
       "  \"DTE\"  => \u001b[1m1508×8 DataFrame\u001b[0m\u001b[0m…\n",
       "  \"ZION\" => \u001b[1m1508×8 DataFrame\u001b[0m\u001b[0m…\n",
       "  \"AVY\"  => \u001b[1m1508×8 DataFrame\u001b[0m\u001b[0m…\n",
       "  \"EW\"   => \u001b[1m1508×8 DataFrame\u001b[0m\u001b[0m…\n",
       "  \"EA\"   => \u001b[1m1508×8 DataFrame\u001b[0m\u001b[0m…\n",
       "  \"NWSA\" => \u001b[1m1508×8 DataFrame\u001b[0m\u001b[0m…\n",
       "  \"CAG\"  => \u001b[1m1508×8 DataFrame\u001b[0m\u001b[0m…\n",
       "  \"GPC\"  => \u001b[1m1508×8 DataFrame\u001b[0m\u001b[0m…\n",
       "  \"FCX\"  => \u001b[1m1508×8 DataFrame\u001b[0m\u001b[0m…\n",
       "  \"GILD\" => \u001b[1m1508×8 DataFrame\u001b[0m\u001b[0m…\n",
       "  \"UNP\"  => \u001b[1m1508×8 DataFrame\u001b[0m\u001b[0m…\n",
       "  \"CDW\"  => \u001b[1m1508×8 DataFrame\u001b[0m\u001b[0m…\n",
       "  ⋮      => ⋮"
      ]
     },
     "execution_count": 9,
     "metadata": {},
     "output_type": "execute_result"
    }
   ],
   "source": [
    "training_dataset = Dict{String,DataFrame}();\n",
    "for (ticker,data) ∈ original_training_dataset\n",
    "    if (nrow(data) == maximum_number_trading_days)\n",
    "        training_dataset[ticker] = data;\n",
    "    end\n",
    "end\n",
    "training_dataset"
   ]
  },
  {
   "cell_type": "markdown",
   "id": "243a97e7-d2b4-4b21-ad01-92959554b2a5",
   "metadata": {},
   "source": [
    "Next, get a list of ticker symbols for the firms in the cleaned-up `training_dataset` and save it in the `list_of_all_tickers::Array{String,1}` array. We sort the list of ticker symbols alphabetically using [the build-in Julia `sort(...)` function](https://docs.julialang.org/en/v1/base/sort/#Base.sort).\n",
    "* _What is the `|>`_? This is the [Julia pipe (function composition) operator](https://docs.julialang.org/en/v1/manual/functions/#Function-composition-and-piping). It takes the result of its left-hand operon and inserts it into its right-hand side operon. So the statement below is: we get [the keys of the dictionary](https://docs.julialang.org/en/v1/base/collections/#Base.keys), turn that into an array using [the collect method](https://docs.julialang.org/en/v1/base/collections/#Base.collect-Tuple{Type,%20Any}), and sort it [using the `sort(...)` method](https://docs.julialang.org/en/v1/base/sort/#Base.sort). We then save the result in the `list_of_all_tickers` variable."
   ]
  },
  {
   "cell_type": "code",
   "execution_count": 11,
   "id": "cc5f046a-235c-48f5-aee0-98485383f6ac",
   "metadata": {},
   "outputs": [],
   "source": [
    "list_of_all_tickers = keys(training_dataset) |> collect |> sort;"
   ]
  },
  {
   "cell_type": "markdown",
   "id": "4e2d0777-d7fc-4620-b614-8cfa37efd52e",
   "metadata": {},
   "source": [
    "### Constants\n",
    "Finally, set some constants we'll use later in this notebook. The comments describe the constants, the units, permissible values, etc."
   ]
  },
  {
   "cell_type": "code",
   "execution_count": 13,
   "id": "e57397f9-2257-46e2-be3a-c818c08d898d",
   "metadata": {},
   "outputs": [],
   "source": [
    "Δt = (1/252); # 1-trading day in units of years\n",
    "ϵ = 0.05; # region around zero to classify as unch => 0 ± ϵ will be counted as unch"
   ]
  },
  {
   "cell_type": "markdown",
   "id": "caac3475-77eb-4f9f-a480-f1647c3e148c",
   "metadata": {},
   "source": [
    "## Task 1: Estimate the real-world lattice parameters from data\n",
    "In this task, we'll estimate the parameters of the trinomial lattice model using a real-world probability measure, i.e., from growth rate data. We'll start by explaining the parameters of a trinomial model; we'll then calculate the growth rate for a ticker of interest, in this case, `SPY,` and then we'll estimate the trinomial model parameters."
   ]
  },
  {
   "cell_type": "markdown",
   "id": "ec9e3bac-6595-4a22-8c20-b6c010f67e0b",
   "metadata": {},
   "source": [
    "### Parameters\n",
    "A trinomial model has five parameters to estimate $(p,\\bar{p},q,u,d)$, and a hyper-parameter $\\epsilon$ (the distance around that we define as an `unch` move) that we select.\n",
    "* The up factor $u$ and the down factor $d$ are the same as the binomial model. The up parameter $u$ is the amount the share increases over a period if we transition to the `up`-state. Likewise, the down factor $d$ is the amount the share price decreases if we transition to the `down`-state.\n",
    "* For a trinomial model, we have _three probability parameters_ $(p,\\bar{p},q)$ that we have to estimate. The parameter $p$ denotes the probability of a `up`-move, $\\bar{p}$ denotes the probability of a `down`-move, and $q$ denote the probability of an `unch` move. Because we have three outcomes: $q = 1 - p - \\bar{p}$.\n",
    "* _Aside_: To be technical, the $(p,\\bar{p},q)$ are the parameters of [a categorical distribution](https://en.wikipedia.org/wiki/Categorical_distribution), which we could theoretically sample at each node of the tree to determine the next state. A [categorical distribution](https://en.wikipedia.org/wiki/Categorical_distribution) is a generalization of [the Bernoulli distribution](https://en.wikipedia.org/wiki/Bernoulli_distribution), which we used in the binomial case.\n",
    "\n",
    "Given a value for $\\epsilon$, we can estimate values for $(p,\\bar{p},q,u,d)$ using logic similar to the binomial case, i.e., we count the number of up-days and divide by the total number of days to get $p$, etc.\n",
    "\n",
    "### Estimate the growth rate array\n",
    "Now that we have loaded the data, we can calculate the growth rate. We assume a share price model of the form:\n",
    "$$\n",
    "S_{j} = \\exp\\left(\\mu_{j,j-1}\\cdot\\Delta{t}\\right)\\cdot{S_{j-1}}\n",
    "$$\n",
    "where $\\mu_{j,j-1}$ denotes the _growth rate_ (units: 1/time) and $\\Delta{t}$ (units: time) denotes the time step during the period $(j-1)\\rightarrow{j}$. Solving for the growth parameter $\\mu_{j,j-1}$ gives the expression:\n",
    "$$\n",
    "\\mu_{j,j-1} = \\left(\\frac{1}{\\Delta{t}}\\right)\\cdot\\ln\\left(\\frac{S_{j}}{S_{j-1}}\\right)\n",
    "$$\n",
    "We use daily data; thus, the natural time frame between $S_{j-1}$ and $S_{j}$ is a single day. However, it will be easier to use an annualized value for the $\\mu$ parameter; thus, we let $\\Delta{t} = 1/252$, i.e., the fraction of a year that occurs in a single trading day.\n",
    "* The [`log_growth_matrix(...)` method](src/Compute.jl) takes `dataset` $\\mathcal{D}$ and a list of firms $\\mathcal{L}$ and computes the growth rate values for each firm as a function of time. The data is returned as a $\\mathcal{D}_{i}\\times\\dim\\mathcal{L}$ array (time on the rows, firm $i$ on the columns). We store the data in the `log_growth_array::Array{Float64,1}` variable.\n",
    "* __TODO__: Finish the implementation of the [`log_growth_matrix(...)` method](src/Compute.jl). For clues, [check out the `VLQuantativeFinancePackage.jl` implementation of this method](https://github.com/varnerlab/VLQuantitativeFinancePackage.jl/blob/e9a3f416dac2722b7c13aaeff23637fc40bdd68a/src/Base.jl#L2-L28). Alternatively, we've provided an implementation in the `soln` directory if you get stuck."
   ]
  },
  {
   "cell_type": "code",
   "execution_count": 16,
   "id": "4c13ca0b-0228-4b5b-912b-7c75ec8b308e",
   "metadata": {},
   "outputs": [],
   "source": [
    "log_growth_array = log_growth_matrix(training_dataset,  list_of_all_tickers, Δt = Δt);"
   ]
  },
  {
   "cell_type": "markdown",
   "id": "61727cf6-8c21-4c16-b7e1-40b93ea5f271",
   "metadata": {},
   "source": [
    "* This study will focus on [the SP500 ETF `SPY`](https://finance.yahoo.com/quote/SPY/). Set the `ticker_to_analyze::String` variable to `SPY.` We'll then look up the location (index) of `SPY` in the `list_of_all_tickers` using [the `findfirst(...)` method](https://docs.julialang.org/en/v1/base/arrays/#Base.findfirst-Tuple{Function,%20Any}), and save it to the `i` variable."
   ]
  },
  {
   "cell_type": "code",
   "execution_count": 18,
   "id": "5e151d21-3d16-4cda-9f6d-5090890f061a",
   "metadata": {},
   "outputs": [],
   "source": [
    "ticker_to_analyze = \"SPY\";\n",
    "i = findfirst(ticker -> ticker == ticker_to_analyze, list_of_all_tickers);"
   ]
  },
  {
   "cell_type": "markdown",
   "id": "19bfdcf0-846e-4dbc-89e2-5135f2581272",
   "metadata": {},
   "source": [
    "Using the `log_growth_array::Array{Float64,2},` estimate the $(p,\\bar{p},q,u,d)$ parameters assuming a real-world probability measure by passing the growth-rate data to [a `RealWorldTrinomialProbabilityMeasure` instance](src/Types.jl), which returns [a `MyRealWorldTrinomialSharePriceTreeParameters` instance](src/Types.jl) which holds the parameters.\n",
    "* __TODO__: behind the scenes, this call points to a private function that computes the $(p,\\bar{p},q,u,d)$ by analyzing the $\\mu$-time series data in the `log_growth_array::Array{Float64,1}` variable. Search [`src/Compute.jl`](src/Compute.jl) for this call.\n",
    "* You'll need to provide the implementation of that private method in the [`src/Compute.jl`](src/Compute.jl) file. Look at the [bionomial implementation in the VLQuantativeFinancePackage.jl for clues](https://github.com/varnerlab/VLQuantitativeFinancePackage.jl/blob/e9a3f416dac2722b7c13aaeff23637fc40bdd68a/src/Compute.jl#L360). Alternatively, the answer is included in the `soln` directory (but that's not exciting!)"
   ]
  },
  {
   "cell_type": "code",
   "execution_count": 20,
   "id": "9fe70774-aa87-44e8-8de1-76ec926f8d24",
   "metadata": {},
   "outputs": [],
   "source": [
    "parameters = (RealWorldTrinomialProbabilityMeasure())(log_growth_array[:,i], ϵ = ϵ);"
   ]
  },
  {
   "cell_type": "markdown",
   "id": "adace206-0366-4094-b82d-212d3ed266ff",
   "metadata": {},
   "source": [
    "### Check: Do the estimated probabilities sum to `1`?\n",
    "The calculation of the $(p,\\bar{p},q,u,d)$ parameters does not use the $q = 1 - p - \\bar{p}$ expression, i.e., it estimates $p$, $\\bar{p}$ and $q$ independently. If your calculation is correct, then $p + \\bar{p} + q = 1$. Let's check that [using the @assert macro](https://docs.julialang.org/en/v1/base/base/#Base.@assert)"
   ]
  },
  {
   "cell_type": "code",
   "execution_count": 22,
   "id": "ecc1fbec-aaa6-4d6a-acf5-9e1daf473cbe",
   "metadata": {},
   "outputs": [],
   "source": [
    "let \n",
    "    p = parameters.p; # get p from parameters\n",
    "    p̄ = parameters.p̄; # get p̄ from parameters\n",
    "    q = parameters.q; # get q from parameters\n",
    "    @assert (p + p̄ + q) == 1\n",
    "end"
   ]
  },
  {
   "cell_type": "markdown",
   "id": "cb99ceee-e890-4eef-99c3-3668a84a92dd",
   "metadata": {},
   "source": [
    "## Task 2: Build a trinomial model and test in-sample performance\n",
    "In this task, we'll use the parameters from the previous task to construct [a `MyAdjacencyBasedTrinomialSharePriceTreeModel` instance](src/Types.jl) using [a custom `build(...)` method](src/Factory.jl) and then we'll simulate the future share price distribution for `SPY` by calling [the `populate(...)` method](src/Compute.jl). This will compute the price and probability values for all the nodes in the tree for each level (time slice) of the tree.\n",
    "\n",
    "Let's begin by setting the number of levels (time slices) in the tree by specifying the `h::Int64` parameter. For this study, let `h = 13`."
   ]
  },
  {
   "cell_type": "code",
   "execution_count": 24,
   "id": "c2a3e2e0-8f5e-4d13-8279-173004ae583c",
   "metadata": {},
   "outputs": [],
   "source": [
    "h = 13; # will give h + 1 levels with index {0,1,...,h-1} because zero-based"
   ]
  },
  {
   "cell_type": "markdown",
   "id": "7f293f28-0d4e-4733-8f45-f0a76449c61f",
   "metadata": {},
   "source": [
    "Select a (random) `h-day` period by setting the `random_start_index::Int64` variable. Here, we'll specify the start index (the trading day index from which we initialize the simulation) to `1321`."
   ]
  },
  {
   "cell_type": "code",
   "execution_count": 26,
   "id": "9c8ed1fe-d3e5-43ce-a957-56ec8cc21c86",
   "metadata": {},
   "outputs": [],
   "source": [
    "random_start_index = 1321; # this is where we will start\n",
    "random_stop_index = random_start_index + (h - 1);"
   ]
  },
  {
   "cell_type": "markdown",
   "id": "12d56ad8-6de6-4d04-8d33-efddfb563c2b",
   "metadata": {},
   "source": [
    "Now that we have the time range of the simulation, let's grab the initial share price for the simulation from the `original_training_dataset::DataFrame,` save this value to the `Sₒ::Float64` variable"
   ]
  },
  {
   "cell_type": "code",
   "execution_count": 28,
   "id": "da72247c-d8c9-42bf-b57c-af8b53ef4a93",
   "metadata": {},
   "outputs": [],
   "source": [
    "Sₒ = original_training_dataset[ticker_to_analyze][random_start_index, :volume_weighted_average_price];"
   ]
  },
  {
   "cell_type": "markdown",
   "id": "dbb41954-af19-4b39-98c8-6fc6b366cc47",
   "metadata": {},
   "source": [
    "Fill me in"
   ]
  },
  {
   "cell_type": "code",
   "execution_count": 30,
   "id": "0bfa1a75-fc8a-4096-a3d6-412f4b424068",
   "metadata": {},
   "outputs": [],
   "source": [
    "latticemodel = build(MyAdjacencyBasedTrinomialSharePriceTreeModel, parameters) |> model -> populate(model, Sₒ = Sₒ, h = h);"
   ]
  },
  {
   "cell_type": "markdown",
   "id": "b538cb18-0477-4e1f-ad3c-58432444dd76",
   "metadata": {},
   "source": [
    "#### Check: Visualize price distribution at tree level `h`"
   ]
  },
  {
   "cell_type": "code",
   "execution_count": 32,
   "id": "b8453264-1c7d-46ac-b341-15569be7be9a",
   "metadata": {},
   "outputs": [
    {
     "name": "stdout",
     "output_type": "stream",
     "text": [
      "┌───────┬─────────────┬─────────┬──────────────┐\n",
      "│\u001b[1m index \u001b[0m│\u001b[1m probability \u001b[0m│\u001b[1m   price \u001b[0m│\u001b[1m         path \u001b[0m│\n",
      "│\u001b[90m Int64 \u001b[0m│\u001b[90m     Float64 \u001b[0m│\u001b[90m Float64 \u001b[0m│\u001b[90m Vector{Char} \u001b[0m│\n",
      "├───────┼─────────────┼─────────┼──────────────┤\n",
      "│     4 │    0.294632 │  413.33 │   ['a', 'a'] │\n",
      "│     5 │    0.030976 │ 411.682 │   ['a', 'b'] │\n",
      "│     6 │     0.46536 │ 410.064 │   ['a', 'c'] │\n",
      "│     7 │    0.030976 │ 411.682 │   ['b', 'a'] │\n",
      "│     8 │ 0.000814161 │ 410.041 │   ['b', 'b'] │\n",
      "│     9 │   0.0244627 │ 408.429 │   ['b', 'c'] │\n",
      "│    10 │     0.46536 │ 410.064 │   ['c', 'a'] │\n",
      "│    11 │   0.0244627 │ 408.429 │   ['c', 'b'] │\n",
      "│    12 │    0.183755 │ 406.824 │   ['c', 'c'] │\n",
      "└───────┴─────────────┴─────────┴──────────────┘\n"
     ]
    }
   ],
   "source": [
    "let\n",
    "    L = 2;\n",
    "    nodeid = latticemodel.levels[L]\n",
    "    df = DataFrame();\n",
    "    for i ∈ nodeid\n",
    "        node = latticemodel.data[i];\n",
    "        \n",
    "        row_df = (\n",
    "            index = i,\n",
    "            probability = node.probability,\n",
    "            price = node.price,\n",
    "            path = node.path,\n",
    "        );\n",
    "        push!(df, row_df);\n",
    "    end\n",
    "    pretty_table(df)\n",
    "end"
   ]
  },
  {
   "cell_type": "markdown",
   "id": "c116c027-6a48-47bb-b7db-6a4e0dad0ce8",
   "metadata": {},
   "source": [
    "### Check: Does the probability of _unique nodes_ on a level sum to `1`?\n",
    "Fill me in."
   ]
  },
  {
   "cell_type": "code",
   "execution_count": 34,
   "id": "8fb2dd92-7a6e-4c76-a4dc-d0c6ac12b838",
   "metadata": {},
   "outputs": [],
   "source": [
    "let\n",
    "    L = h;\n",
    "    nodeid = latticemodel.levels[L]\n",
    "    probability_array = Array{Float64,1}();\n",
    "    for i ∈ nodeid\n",
    "        node = latticemodel.data[i];\n",
    "        probability = node.probability;\n",
    "        if ((probability ∈ probability_array) == false)\n",
    "            push!(probability_array,probability);\n",
    "        end\n",
    "    end\n",
    "    @assert sum(probability_array) ≈ 1 # \\approx function, \n",
    "end;"
   ]
  },
  {
   "cell_type": "markdown",
   "id": "d1698de2-7087-4f27-b193-d3e414ab5a88",
   "metadata": {},
   "source": [
    "### Visualize trinomial lattice simulation\n",
    "Next, look at how the binomial model simulations compare with market observations. In particular, we'll compute the expected value and the variance of the simulated price as a function of time, i.e., at each level in the tree using the local [`𝔼(...)`](src/Compute.jl) and [`Var(...)` functions](src/Compute.jl).\n",
    "* The `levels` array holds the index of the tree levels, i.e., the time slices. The [`𝔼(...)`](src/Compute.jl) and [`Var(...)` functions](src/Compute.jl) take the `random_test_model` tree model, and the `levels` array and return the expectation and the variance, respectively. "
   ]
  },
  {
   "cell_type": "code",
   "execution_count": 36,
   "id": "800b7841-65d2-47e6-a881-c8ba4ee0c380",
   "metadata": {},
   "outputs": [],
   "source": [
    "levels = [k for k ∈ 0:(h-1)]\n",
    "expectation = 𝔼(latticemodel, levels); # compute the expected value\n",
    "variance = Var(latticemodel, levels);"
   ]
  },
  {
   "cell_type": "markdown",
   "id": "c0d201e9-773e-4133-9c1f-43f259d9d09c",
   "metadata": {},
   "source": [
    "#### Summary\n",
    "`Unhide` the code block below to see how we plotted the model simulations and the observed prices for a randomly selected firm using a binomial lattice model.\n",
    "* The observed price (red and green lines) may or may not lie in the $\\pm\\,{z}\\cdot\\sigma$ confidence ranges, where `z = {1,1.96,2.576}` which are shown in progressively lighter shades of blue (depending upon the date range selected). The solid green line with circles is the [observed VWAP price](https://en.wikipedia.org/wiki/Volume-weighted_average_price), and the solid red line with circles is the close price for `SPY` in the date range simulated."
   ]
  },
  {
   "cell_type": "code",
   "execution_count": 38,
   "id": "7da9292d-0cf2-4592-9fb4-ef57e4168af7",
   "metadata": {},
   "outputs": [
    {
     "ename": "LoadError",
     "evalue": "ParseError:\n\u001b[90m# Error @ \u001b[0;0m\u001b]8;;file:///Users/jeffreyvarner/Desktop/julia_work/PS2-CHEME-5660-TEMPLATE-AY-2024/In[38]#24:78\u001b\\\u001b[90mIn[38]:24:78\u001b[0;0m\u001b]8;;\u001b\\\n    plot!(expectation[:,1], random_firm_data[T_range, key],  \n        lw=4, c=:red, label=\"Close Firm-$(ticker_to_analyze)\", legend = :top \u001b[48;2;120;70;70mleft\u001b[0;0m)\n\u001b[90m#                                                                            └──┘ ── \u001b[0;0m\u001b[91mExpected `)`\u001b[0;0m",
     "output_type": "error",
     "traceback": [
      "ParseError:\n\u001b[90m# Error @ \u001b[0;0m\u001b]8;;file:///Users/jeffreyvarner/Desktop/julia_work/PS2-CHEME-5660-TEMPLATE-AY-2024/In[38]#24:78\u001b\\\u001b[90mIn[38]:24:78\u001b[0;0m\u001b]8;;\u001b\\\n    plot!(expectation[:,1], random_firm_data[T_range, key],  \n        lw=4, c=:red, label=\"Close Firm-$(ticker_to_analyze)\", legend = :top \u001b[48;2;120;70;70mleft\u001b[0;0m)\n\u001b[90m#                                                                            └──┘ ── \u001b[0;0m\u001b[91mExpected `)`\u001b[0;0m",
      "",
      "Stacktrace:",
      " [1] top-level scope",
      "   @ In[38]:24"
     ]
    }
   ],
   "source": [
    "let \n",
    "    L68 = expectation[:,2] .- sqrt.(variance[:,2])\n",
    "    U68 = expectation[:,2] .+ sqrt.(variance[:,2])\n",
    "    L95 = expectation[:,2] .- 1.96*sqrt.(variance[:,2])\n",
    "    U95 = expectation[:,2] .+ 1.96*sqrt.(variance[:,2])\n",
    "    L99 = expectation[:,2] .- 2.576*sqrt.(variance[:,2])\n",
    "    U99 = expectation[:,2] .+ 2.576*sqrt.(variance[:,2])\n",
    "\n",
    "\n",
    "    T_range = range(random_start_index,stop=random_stop_index,step=1) |> collect\n",
    "    random_firm_data = original_training_dataset[ticker_to_analyze]\n",
    "    key = :close\n",
    "    \n",
    "    plot(expectation[:,1], expectation[:,2], fillrange=L68, c=:deepskyblue1, alpha=0.4, label=\"\")\n",
    "    plot!(expectation[:,1], expectation[:,2], fillrange=U68, c=:deepskyblue1, alpha=0.4, label=\"\")\n",
    "    plot!(expectation[:,1], expectation[:,2], fillrange=L95, c=:deepskyblue1, alpha=0.3, label=\"\")\n",
    "    plot!(expectation[:,1], expectation[:,2], fillrange=U95, c=:deepskyblue1, alpha=0.3, label=\"\")\n",
    "    plot!(expectation[:,1], expectation[:,2], fillrange=L99, c=:deepskyblue1, alpha=0.2, label=\"\")\n",
    "    plot!(expectation[:,1], expectation[:,2], fillrange=U99, c=:deepskyblue1, alpha=0.2, label=\"\")\n",
    "    plot!(expectation[:,1], expectation[:,2], c=:blue, lw=3,ls=:dash, label=\"expectation\")\n",
    "    \n",
    "    # data - close\n",
    "    plot!(expectation[:,1], random_firm_data[T_range, key],  \n",
    "        lw=4, c=:red, label=\"Close Firm-$(ticker_to_analyze)\", legend = :topleft)\n",
    "    scatter!(expectation[:,1], random_firm_data[T_range, key], label=\"\", \n",
    "        msc=:red, mc=:white)\n",
    "\n",
    "    # data - vwap\n",
    "    plot!(expectation[:,1], random_firm_data[T_range, :volume_weighted_average_price],  \n",
    "        lw=4, c=:green, label=\"VWAP Firm-$(ticker_to_analyze)\", legend = :topleft)\n",
    "    scatter!(expectation[:,1], random_firm_data[T_range, :volume_weighted_average_price], label=\"\", \n",
    "        msc=:green, mc=:white)\n",
    "\n",
    "    xlabel!(\"Time (days)\", fontsize=18)\n",
    "    ylabel!(\"Firm-$(ticker_to_analyze) share price (USD/share)\", fontsize=18)\n",
    "end"
   ]
  },
  {
   "cell_type": "markdown",
   "id": "df00b295-2793-4f8b-8e51-e804e0b29901",
   "metadata": {},
   "source": [
    "## Task 3: Was the simulation successful for the specified time range?\n",
    "In this task, we will check the accuracy of the trinomial price projection for `SPY.` Determining if a model accurately represents data can be done in various ways, e.g., by looking at the stylized facts or calculating some other figure of merit. We'll do this later, but for now, let's think about this question purely in terms of the price prediction.\n",
    "\n",
    "#### A simple functional test\n",
    "We will utilize a simple, straightforward, functional test here. This test involves checking if the simulated price falls within a specified lower bound ($L_{j}$) and upper bound ($U_{j}$) for all times $t_j$ within a given interval ($t_{j}\\in\\mathcal{I}_{k}$). \n",
    "* __Success__: If the simulation is bounded between $L_{j}$ and $U_{j}$ for $\\forall{t}_{j}\\in\\mathcal{I}_{k}$, it is a `success.` The values for $L_{j}$ and $U_{j}$ can be customized, but we set these to $\\mathbb{E}(X)\\pm{2.576}\\cdot{\\sigma}$, where $\\mathbb{E}(X)$ represents the expected share price value and $\\sigma$ is the standard deviation of the lattice model simulation. \n",
    "* __Failure__: However, if the actual price exceeds the given bounds at any point, the simulation is considered a `failure.`"
   ]
  },
  {
   "cell_type": "code",
   "execution_count": 40,
   "id": "062c3a26-513e-40db-a993-c9e090955ec8",
   "metadata": {},
   "outputs": [
    {
     "name": "stdout",
     "output_type": "stream",
     "text": [
      "The share price simulation of SPY between (1321 -> 1333) was successful: true\n"
     ]
    }
   ],
   "source": [
    "let\n",
    "\n",
    "    # initialize -\n",
    "    z = 2.576\n",
    "    L = expectation[:,2] .- z*sqrt.(variance[:,2])\n",
    "    U = expectation[:,2] .+ z*sqrt.(variance[:,2])\n",
    "    random_firm_data = original_training_dataset[ticker_to_analyze]\n",
    "    T_range = range(random_start_index,stop=random_stop_index,step=1) |> collect\n",
    "    key = :volume_weighted_average_price\n",
    "    \n",
    "    # check the bounds: if below L, or above U then the simulation failed\n",
    "    success_flag = true;\n",
    "    for k ∈ eachindex(T_range)\n",
    "        price_value = random_firm_data[T_range[k], key];    \n",
    "        if (price_value < L[k]) || (price_value > U[k])            \n",
    "            success_flag = false;\n",
    "            break;\n",
    "        end\n",
    "    end\n",
    "\n",
    "    println(\"The share price simulation of SPY between ($(random_start_index) -> $(random_stop_index)) was successful: $(success_flag)\")\n",
    "end"
   ]
  },
  {
   "cell_type": "code",
   "execution_count": 41,
   "id": "49d028ed-f46e-42f6-a519-31e90dfe9d37",
   "metadata": {},
   "outputs": [],
   "source": [
    "does_simulation_pass_simple_test = true;"
   ]
  },
  {
   "cell_type": "markdown",
   "id": "a83ee64c-f5f9-45e6-9bbb-d1eb034451e9",
   "metadata": {},
   "source": [
    "## Testing\n",
    "In the code block below, we compare your answers to the teaching team and give you feedback on which items are the same (which presumably means they are correct) and which are different. `Unhide` the code block below (if you are curious) about how we implemented the tests and what we are testing."
   ]
  },
  {
   "cell_type": "code",
   "execution_count": null,
   "id": "1e2a8b24-0d59-493f-9c01-1693ac4f4d8a",
   "metadata": {},
   "outputs": [],
   "source": [
    "let\n",
    "    # Set the path -\n",
    "    path_to_soln_file = joinpath(_PATH_TO_SOLN,\"PS2-TeachingTeam-Solution-CHEME-5660-Fall-2024.jld2\")\n",
    "    \n",
    "    # write the file -\n",
    "    save(path_to_soln_file, Dict(\"latticemodel\"=>latticemodel, \n",
    "            \"h\" =>h, \"random_start_index\" => random_start_index, \n",
    "            \"parameters\" => parameters, \"log_growth_array\" => log_growth_array, \n",
    "            \"does_simulation_pass_simple_test\" => does_simulation_pass_simple_test, \n",
    "            \"expectation\" => expectation, \n",
    "            \"variance\" => expectation));\n",
    "end"
   ]
  },
  {
   "cell_type": "markdown",
   "id": "c5a0ca8e-9e9a-4cf8-85fc-fea49acd5fe6",
   "metadata": {},
   "source": [
    "## Disclaimer and Risks\n",
    "__This content is offered solely for training and informational purposes__. No offer or solicitation to buy or sell securities or derivative products or any investment or trading advice or strategy is made, given, or endorsed by the teaching team. \n",
    "\n",
    "__Trading involves risk__. Carefully review your financial situation before investing in securities, futures contracts, options, or commodity interests. Past performance, whether actual or indicated by historical tests of strategies, is no guarantee of future performance or success. Trading is generally inappropriate for someone with limited resources, investment or trading experience, or a low-risk tolerance.  Only risk capital that is not required for living expenses.\n",
    "\n",
    "__You are fully responsible for any investment or trading decisions you make__. Such decisions should be based solely on evaluating your financial circumstances, investment or trading objectives, risk tolerance, and liquidity needs."
   ]
  }
 ],
 "metadata": {
  "kernelspec": {
   "display_name": "Julia 1.10.5",
   "language": "julia",
   "name": "julia-1.10"
  },
  "language_info": {
   "file_extension": ".jl",
   "mimetype": "application/julia",
   "name": "julia",
   "version": "1.10.5"
  }
 },
 "nbformat": 4,
 "nbformat_minor": 5
}
